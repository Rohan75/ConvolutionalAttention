{
  "nbformat": 4,
  "nbformat_minor": 0,
  "metadata": {
    "kernelspec": {
      "display_name": "Python 3",
      "language": "python",
      "name": "python3"
    },
    "language_info": {
      "codemirror_mode": {
        "name": "ipython",
        "version": 3
      },
      "file_extension": ".py",
      "mimetype": "text/x-python",
      "name": "python",
      "nbconvert_exporter": "python",
      "pygments_lexer": "ipython3",
      "version": "3.8.7"
    },
    "colab": {
      "name": "ModelBuilder.ipynb",
      "provenance": []
    },
    "accelerator": "GPU"
  },
  "cells": [
    {
      "cell_type": "markdown",
      "metadata": {
        "id": "HNwXeEFCjLjU"
      },
      "source": [
        "# Imports"
      ]
    },
    {
      "cell_type": "code",
      "metadata": {
        "id": "cORRd0BKjLjW"
      },
      "source": [
        "import tensorflow as tf\n",
        "from tensorflow.keras import layers\n",
        "from tensorflow.keras.models import Model\n",
        "\n",
        "import numpy as np\n",
        "import requests as rq\n",
        "import io, h5py"
      ],
      "execution_count": 12,
      "outputs": []
    },
    {
      "cell_type": "markdown",
      "metadata": {
        "id": "NP5SXKhMjLjX"
      },
      "source": [
        "# Retrieve Dataset"
      ]
    },
    {
      "cell_type": "code",
      "metadata": {
        "id": "HOVTZwAPjLjX",
        "colab": {
          "base_uri": "https://localhost:8080/"
        },
        "outputId": "fb262e67-44c4-40a5-e355-d6fe107a5f97"
      },
      "source": [
        "data = rq.get('https://www.dropbox.com/s/c3umbo5y13sqcfp/synthetic_dataset.h5?raw=true')\n",
        "data.raise_for_status()\n",
        "\n",
        "with h5py.File(io.BytesIO(data.content), 'r') as dataset:\n",
        "    x_train = np.array(dataset['X_train']).astype(np.float32).transpose([0, 2, 1])\n",
        "    y_train = np.array(dataset['Y_train']).astype(np.float32)\n",
        "    x_valid = np.array(dataset['X_valid']).astype(np.float32).transpose([0, 2, 1])\n",
        "    y_valid = np.array(dataset['Y_valid']).astype(np.int32)\n",
        "    x_test = np.array(dataset['X_test']).astype(np.float32).transpose([0, 2, 1])\n",
        "    y_test = np.array(dataset['Y_test']).astype(np.int32)\n",
        "\n",
        "print(x_train.shape, y_train.shape)"
      ],
      "execution_count": 13,
      "outputs": [
        {
          "output_type": "stream",
          "text": [
            "(21000, 200, 4) (21000, 12)\n"
          ],
          "name": "stdout"
        }
      ]
    },
    {
      "cell_type": "markdown",
      "metadata": {
        "id": "Fq8SRFhPjLjY"
      },
      "source": [
        "# Connect to Drive (Optional)"
      ]
    },
    {
      "cell_type": "code",
      "metadata": {
        "id": "kJ1WgkFPjLjY",
        "colab": {
          "base_uri": "https://localhost:8080/"
        },
        "outputId": "0ba58cd5-f6e9-4e28-9fb0-b9ebcbdd53f5"
      },
      "source": [
        "from google.colab import drive\n",
        "drive.mount('/content/drive', force_remount=True)"
      ],
      "execution_count": 14,
      "outputs": [
        {
          "output_type": "stream",
          "text": [
            "Mounted at /content/drive\n"
          ],
          "name": "stdout"
        }
      ]
    },
    {
      "cell_type": "markdown",
      "metadata": {
        "id": "I2_xcPd5jLjZ"
      },
      "source": [
        "# Construct Model"
      ]
    },
    {
      "cell_type": "code",
      "metadata": {
        "id": "DF1C8iHGjLja"
      },
      "source": [
        "def build_model(params):\n",
        "    # Hyperparameters\n",
        "    filters, kernel_size, batch_norm_1, pool_size, dropout_1, pos_encoding, heads, key_size, dropout_2, dense_size, batch_norm_2, dropout_3 = params\n",
        "    \n",
        "    # Input Layer\n",
        "    inputs = layers.Input(shape=(200, 4))\n",
        "    \n",
        "    # Convolution Block\n",
        "    nn = layers.Conv1D(filters=filters, kernel_size=kernel_size, use_bias=False, padding='same')(inputs)\n",
        "    if batch_norm_1:\n",
        "        nn = layers.BatchNormalization()(nn)\n",
        "    nn = layers.Activation('relu')(nn)\n",
        "    nn = layers.MaxPool1D(pool_size=pool_size)(nn)\n",
        "    if dropout_1 != 0:\n",
        "        nn = layers.Dropout(dropout_1)(nn)\n",
        "    \n",
        "    # Multi-Head Attention Block\n",
        "    if pos_encoding:\n",
        "        positions = tf.range(nn.shape[1])\n",
        "        context = layers.Embedding(input_dim=nn.shape[1], output_dim=nn.shape[2])(positions)\n",
        "        nn = tf.add(nn, context)  # contextual meaning\n",
        "\n",
        "    attention, weights = layers.MultiHeadAttention(num_heads=heads, key_dim=key_size)(nn, nn, return_attention_scores=True)\n",
        "    if dropout_2 != 0:\n",
        "        nn = layers.Dropout(dropout_2)(attention)\n",
        "    nn = layers.LayerNormalization()(nn)\n",
        "    \n",
        "    # Dense Block\n",
        "    nn = layers.Flatten()(nn)\n",
        "    nn = layers.Dense(dense_size, use_bias=False)(nn)\n",
        "    if batch_norm_2:\n",
        "        nn = layers.BatchNormalization()(nn)\n",
        "    nn = layers.Activation('relu')(nn)\n",
        "    if dropout_3 != 0:\n",
        "        nn = layers.Dropout(dropout_3)(nn)\n",
        "    \n",
        "    # Outputs\n",
        "    outputs = layers.Dense(12, activation='sigmoid')(nn)\n",
        "    \n",
        "    # Build Model\n",
        "    model = Model(inputs=inputs, outputs=outputs)\n",
        "    model.compile(optimizer=tf.keras.optimizers.Adam(0.0005), loss='binary_crossentropy', metrics=[tf.keras.metrics.AUC(curve='ROC', name='auroc'), tf.keras.metrics.AUC(curve='PR', name='aupr')])\n",
        "    return model"
      ],
      "execution_count": 15,
      "outputs": []
    },
    {
      "cell_type": "code",
      "metadata": {
        "id": "zGqDkh8CjLjb",
        "colab": {
          "base_uri": "https://localhost:8080/",
          "height": 1000
        },
        "outputId": "0c7abf2c-01bf-484a-8236-5cf5ca2418e9"
      },
      "source": [
        "# filters, kernel_size, batch_norm_1, pool_size, dropout_1, pos_encoding, heads, key_size,\n",
        "# dropout_2, dense_size, batch_norm_2, dropout_3\n",
        "base1 = [32, 19, True, 4, 0.1, False, 8, 64, 0.1, 512, True, 0.5]\n",
        "base2 = [32, 19, True, 4, 0.1, False, 8, 64, 0.1, 512, True, 0.5]\n",
        "\n",
        "# Alternate parameters\n",
        "filters = [32, 128, 256]\n",
        "kernels = [19]\n",
        "batch_norm_1 = [True, False]\n",
        "pools = [1, 4, 10, 20]\n",
        "dropout_1 = [0.1, 0.5]\n",
        "pos_encodings = [True, False]\n",
        "heads = [1, 8, 16]\n",
        "keys = [32, 64, 128, 256]\n",
        "dropout_2 = [0.1, 0.5]\n",
        "denses = [64, 256, 512]\n",
        "batch_norm_2 = [True, False]\n",
        "dropout_3 = [0.1, 0.5]\n",
        "\n",
        "names = ['filters', 'kernels', 'batch_norm_1', 'pools', 'dropout_1', 'pos_encodings', 'heads', 'keys', 'dropout_2', 'denses', 'batch_norm_2', 'dropout_3']\n",
        "params = [filters, kernels, batch_norm_1, pools, dropout_1, pos_encodings, heads, keys, dropout_2, denses, batch_norm_2, dropout_3]\n",
        "\n",
        "model = build_model(base1)\n",
        "\n",
        "early_stop = tf.keras.callbacks.EarlyStopping(monitor='val_aupr', patience=15, verbose=1, mode='max', restore_best_weights=False)\n",
        "lr_decay = tf.keras.callbacks.ReduceLROnPlateau(monitor='val_aupr', factor=0.2, patience=5, min_lr=1e-7, mode='max', verbose=1) \n",
        "checkpoint = tf.keras.callbacks.ModelCheckpoint(filepath=f'/content/drive/MyDrive/model-test', monitor='val_aupr', save_best_only=True, mode='max')\n",
        "\n",
        "model.fit(x=x_train, y=y_train, epochs=75, validation_data=(x_valid, y_valid), callbacks=[early_stop, lr_decay, checkpoint])\n",
        "\n",
        "\"\"\"for i in range(len(params)):\n",
        "    for j in range(len(params[i])):\n",
        "        direc = names[i]\n",
        "        name = f'model-{params[i][j]}'\n",
        "        \n",
        "        args = base1.copy()\n",
        "        args[i] = params[i][j]\n",
        "        \n",
        "        model = build_model(args)\n",
        "        \n",
        "        # Callbacks\n",
        "        early_stop = tf.keras.callbacks.EarlyStopping(monitor='val_aupr', patience=15, verbose=1, mode='max', restore_best_weights=False)\n",
        "        lr_decay = tf.keras.callbacks.ReduceLROnPlateau(monitor='val_aupr', factor=0.2, patience=5, min_lr=1e-7, mode='max', verbose=1) \n",
        "        tensorboard = tf.keras.callbacks.Tensorboard(log_dir=f'/content/drive/MyDrive/ColabNotebooks/ConvAttTests/logs/{direc}/{name}')\n",
        "        checkpoint = tf.keras.callbacks.ModelCheckpoint(filepath=f'/content/drive/MyDrive/ColabNotebooks/ConvAttTets/models/{direc}/{name}')\n",
        "        \n",
        "        model.fit(x=x_train, y=y_train, epochs=10, validation_data=(x_valid, y_valid), callbacks=[early_stop, lr_decay, tensorboard, checkpoint])\"\"\""
      ],
      "execution_count": 17,
      "outputs": [
        {
          "output_type": "stream",
          "text": [
            "Epoch 1/75\n",
            "657/657 [==============================] - 7s 9ms/step - loss: 0.5232 - auroc: 0.5300 - aupr: 0.1633 - val_loss: 0.5355 - val_auroc: 0.6708 - val_aupr: 0.3499\n"
          ],
          "name": "stdout"
        },
        {
          "output_type": "stream",
          "text": [
            "WARNING:absl:Found untraced functions such as query_layer_call_and_return_conditional_losses, query_layer_call_fn, key_layer_call_and_return_conditional_losses, key_layer_call_fn, value_layer_call_and_return_conditional_losses while saving (showing 5 of 30). These functions will not be directly callable after loading.\n",
            "WARNING:absl:Found untraced functions such as query_layer_call_and_return_conditional_losses, query_layer_call_fn, key_layer_call_and_return_conditional_losses, key_layer_call_fn, value_layer_call_and_return_conditional_losses while saving (showing 5 of 30). These functions will not be directly callable after loading.\n"
          ],
          "name": "stderr"
        },
        {
          "output_type": "stream",
          "text": [
            "INFO:tensorflow:Assets written to: /content/drive/MyDrive/model-test/assets\n"
          ],
          "name": "stdout"
        },
        {
          "output_type": "stream",
          "text": [
            "INFO:tensorflow:Assets written to: /content/drive/MyDrive/model-test/assets\n"
          ],
          "name": "stderr"
        },
        {
          "output_type": "stream",
          "text": [
            "Epoch 2/75\n",
            "657/657 [==============================] - 6s 9ms/step - loss: 0.3538 - auroc: 0.7433 - aupr: 0.4547 - val_loss: 0.3090 - val_auroc: 0.8291 - val_aupr: 0.5777\n"
          ],
          "name": "stdout"
        },
        {
          "output_type": "stream",
          "text": [
            "WARNING:absl:Found untraced functions such as query_layer_call_and_return_conditional_losses, query_layer_call_fn, key_layer_call_and_return_conditional_losses, key_layer_call_fn, value_layer_call_and_return_conditional_losses while saving (showing 5 of 30). These functions will not be directly callable after loading.\n",
            "WARNING:absl:Found untraced functions such as query_layer_call_and_return_conditional_losses, query_layer_call_fn, key_layer_call_and_return_conditional_losses, key_layer_call_fn, value_layer_call_and_return_conditional_losses while saving (showing 5 of 30). These functions will not be directly callable after loading.\n"
          ],
          "name": "stderr"
        },
        {
          "output_type": "stream",
          "text": [
            "INFO:tensorflow:Assets written to: /content/drive/MyDrive/model-test/assets\n"
          ],
          "name": "stdout"
        },
        {
          "output_type": "stream",
          "text": [
            "INFO:tensorflow:Assets written to: /content/drive/MyDrive/model-test/assets\n"
          ],
          "name": "stderr"
        },
        {
          "output_type": "stream",
          "text": [
            "Epoch 3/75\n",
            "657/657 [==============================] - 6s 9ms/step - loss: 0.2939 - auroc: 0.8343 - aupr: 0.6014 - val_loss: 0.3007 - val_auroc: 0.8593 - val_aupr: 0.6403\n"
          ],
          "name": "stdout"
        },
        {
          "output_type": "stream",
          "text": [
            "WARNING:absl:Found untraced functions such as query_layer_call_and_return_conditional_losses, query_layer_call_fn, key_layer_call_and_return_conditional_losses, key_layer_call_fn, value_layer_call_and_return_conditional_losses while saving (showing 5 of 30). These functions will not be directly callable after loading.\n",
            "WARNING:absl:Found untraced functions such as query_layer_call_and_return_conditional_losses, query_layer_call_fn, key_layer_call_and_return_conditional_losses, key_layer_call_fn, value_layer_call_and_return_conditional_losses while saving (showing 5 of 30). These functions will not be directly callable after loading.\n"
          ],
          "name": "stderr"
        },
        {
          "output_type": "stream",
          "text": [
            "INFO:tensorflow:Assets written to: /content/drive/MyDrive/model-test/assets\n"
          ],
          "name": "stdout"
        },
        {
          "output_type": "stream",
          "text": [
            "INFO:tensorflow:Assets written to: /content/drive/MyDrive/model-test/assets\n"
          ],
          "name": "stderr"
        },
        {
          "output_type": "stream",
          "text": [
            "Epoch 4/75\n",
            "657/657 [==============================] - 6s 9ms/step - loss: 0.2580 - auroc: 0.8815 - aupr: 0.6884 - val_loss: 0.2267 - val_auroc: 0.9224 - val_aupr: 0.7640\n"
          ],
          "name": "stdout"
        },
        {
          "output_type": "stream",
          "text": [
            "WARNING:absl:Found untraced functions such as query_layer_call_and_return_conditional_losses, query_layer_call_fn, key_layer_call_and_return_conditional_losses, key_layer_call_fn, value_layer_call_and_return_conditional_losses while saving (showing 5 of 30). These functions will not be directly callable after loading.\n",
            "WARNING:absl:Found untraced functions such as query_layer_call_and_return_conditional_losses, query_layer_call_fn, key_layer_call_and_return_conditional_losses, key_layer_call_fn, value_layer_call_and_return_conditional_losses while saving (showing 5 of 30). These functions will not be directly callable after loading.\n"
          ],
          "name": "stderr"
        },
        {
          "output_type": "stream",
          "text": [
            "INFO:tensorflow:Assets written to: /content/drive/MyDrive/model-test/assets\n"
          ],
          "name": "stdout"
        },
        {
          "output_type": "stream",
          "text": [
            "INFO:tensorflow:Assets written to: /content/drive/MyDrive/model-test/assets\n"
          ],
          "name": "stderr"
        },
        {
          "output_type": "stream",
          "text": [
            "Epoch 5/75\n",
            "657/657 [==============================] - 6s 9ms/step - loss: 0.2440 - auroc: 0.8950 - aupr: 0.7189 - val_loss: 0.2153 - val_auroc: 0.9282 - val_aupr: 0.7774\n"
          ],
          "name": "stdout"
        },
        {
          "output_type": "stream",
          "text": [
            "WARNING:absl:Found untraced functions such as query_layer_call_and_return_conditional_losses, query_layer_call_fn, key_layer_call_and_return_conditional_losses, key_layer_call_fn, value_layer_call_and_return_conditional_losses while saving (showing 5 of 30). These functions will not be directly callable after loading.\n",
            "WARNING:absl:Found untraced functions such as query_layer_call_and_return_conditional_losses, query_layer_call_fn, key_layer_call_and_return_conditional_losses, key_layer_call_fn, value_layer_call_and_return_conditional_losses while saving (showing 5 of 30). These functions will not be directly callable after loading.\n"
          ],
          "name": "stderr"
        },
        {
          "output_type": "stream",
          "text": [
            "INFO:tensorflow:Assets written to: /content/drive/MyDrive/model-test/assets\n"
          ],
          "name": "stdout"
        },
        {
          "output_type": "stream",
          "text": [
            "INFO:tensorflow:Assets written to: /content/drive/MyDrive/model-test/assets\n"
          ],
          "name": "stderr"
        },
        {
          "output_type": "stream",
          "text": [
            "Epoch 6/75\n",
            "657/657 [==============================] - 5s 8ms/step - loss: 0.2349 - auroc: 0.9024 - aupr: 0.7399 - val_loss: 0.2165 - val_auroc: 0.9305 - val_aupr: 0.7788\n"
          ],
          "name": "stdout"
        },
        {
          "output_type": "stream",
          "text": [
            "WARNING:absl:Found untraced functions such as query_layer_call_and_return_conditional_losses, query_layer_call_fn, key_layer_call_and_return_conditional_losses, key_layer_call_fn, value_layer_call_and_return_conditional_losses while saving (showing 5 of 30). These functions will not be directly callable after loading.\n",
            "WARNING:absl:Found untraced functions such as query_layer_call_and_return_conditional_losses, query_layer_call_fn, key_layer_call_and_return_conditional_losses, key_layer_call_fn, value_layer_call_and_return_conditional_losses while saving (showing 5 of 30). These functions will not be directly callable after loading.\n"
          ],
          "name": "stderr"
        },
        {
          "output_type": "stream",
          "text": [
            "INFO:tensorflow:Assets written to: /content/drive/MyDrive/model-test/assets\n"
          ],
          "name": "stdout"
        },
        {
          "output_type": "stream",
          "text": [
            "INFO:tensorflow:Assets written to: /content/drive/MyDrive/model-test/assets\n"
          ],
          "name": "stderr"
        },
        {
          "output_type": "stream",
          "text": [
            "Epoch 7/75\n",
            "657/657 [==============================] - 5s 8ms/step - loss: 0.2292 - auroc: 0.9076 - aupr: 0.7518 - val_loss: 0.2386 - val_auroc: 0.9194 - val_aupr: 0.7482\n",
            "Epoch 8/75\n",
            "657/657 [==============================] - 6s 8ms/step - loss: 0.2257 - auroc: 0.9109 - aupr: 0.7580 - val_loss: 0.2222 - val_auroc: 0.9342 - val_aupr: 0.7849\n"
          ],
          "name": "stdout"
        },
        {
          "output_type": "stream",
          "text": [
            "WARNING:absl:Found untraced functions such as query_layer_call_and_return_conditional_losses, query_layer_call_fn, key_layer_call_and_return_conditional_losses, key_layer_call_fn, value_layer_call_and_return_conditional_losses while saving (showing 5 of 30). These functions will not be directly callable after loading.\n",
            "WARNING:absl:Found untraced functions such as query_layer_call_and_return_conditional_losses, query_layer_call_fn, key_layer_call_and_return_conditional_losses, key_layer_call_fn, value_layer_call_and_return_conditional_losses while saving (showing 5 of 30). These functions will not be directly callable after loading.\n"
          ],
          "name": "stderr"
        },
        {
          "output_type": "stream",
          "text": [
            "INFO:tensorflow:Assets written to: /content/drive/MyDrive/model-test/assets\n"
          ],
          "name": "stdout"
        },
        {
          "output_type": "stream",
          "text": [
            "INFO:tensorflow:Assets written to: /content/drive/MyDrive/model-test/assets\n"
          ],
          "name": "stderr"
        },
        {
          "output_type": "stream",
          "text": [
            "Epoch 9/75\n",
            "657/657 [==============================] - 6s 9ms/step - loss: 0.2227 - auroc: 0.9139 - aupr: 0.7657 - val_loss: 0.2212 - val_auroc: 0.9348 - val_aupr: 0.7923\n"
          ],
          "name": "stdout"
        },
        {
          "output_type": "stream",
          "text": [
            "WARNING:absl:Found untraced functions such as query_layer_call_and_return_conditional_losses, query_layer_call_fn, key_layer_call_and_return_conditional_losses, key_layer_call_fn, value_layer_call_and_return_conditional_losses while saving (showing 5 of 30). These functions will not be directly callable after loading.\n",
            "WARNING:absl:Found untraced functions such as query_layer_call_and_return_conditional_losses, query_layer_call_fn, key_layer_call_and_return_conditional_losses, key_layer_call_fn, value_layer_call_and_return_conditional_losses while saving (showing 5 of 30). These functions will not be directly callable after loading.\n"
          ],
          "name": "stderr"
        },
        {
          "output_type": "stream",
          "text": [
            "INFO:tensorflow:Assets written to: /content/drive/MyDrive/model-test/assets\n"
          ],
          "name": "stdout"
        },
        {
          "output_type": "stream",
          "text": [
            "INFO:tensorflow:Assets written to: /content/drive/MyDrive/model-test/assets\n"
          ],
          "name": "stderr"
        },
        {
          "output_type": "stream",
          "text": [
            "Epoch 10/75\n",
            "657/657 [==============================] - 5s 8ms/step - loss: 0.2144 - auroc: 0.9202 - aupr: 0.7771 - val_loss: 0.1922 - val_auroc: 0.9484 - val_aupr: 0.8254\n"
          ],
          "name": "stdout"
        },
        {
          "output_type": "stream",
          "text": [
            "WARNING:absl:Found untraced functions such as query_layer_call_and_return_conditional_losses, query_layer_call_fn, key_layer_call_and_return_conditional_losses, key_layer_call_fn, value_layer_call_and_return_conditional_losses while saving (showing 5 of 30). These functions will not be directly callable after loading.\n",
            "WARNING:absl:Found untraced functions such as query_layer_call_and_return_conditional_losses, query_layer_call_fn, key_layer_call_and_return_conditional_losses, key_layer_call_fn, value_layer_call_and_return_conditional_losses while saving (showing 5 of 30). These functions will not be directly callable after loading.\n"
          ],
          "name": "stderr"
        },
        {
          "output_type": "stream",
          "text": [
            "INFO:tensorflow:Assets written to: /content/drive/MyDrive/model-test/assets\n"
          ],
          "name": "stdout"
        },
        {
          "output_type": "stream",
          "text": [
            "INFO:tensorflow:Assets written to: /content/drive/MyDrive/model-test/assets\n"
          ],
          "name": "stderr"
        },
        {
          "output_type": "stream",
          "text": [
            "Epoch 11/75\n",
            "657/657 [==============================] - 6s 8ms/step - loss: 0.2065 - auroc: 0.9263 - aupr: 0.7956 - val_loss: 0.1887 - val_auroc: 0.9480 - val_aupr: 0.8261\n"
          ],
          "name": "stdout"
        },
        {
          "output_type": "stream",
          "text": [
            "WARNING:absl:Found untraced functions such as query_layer_call_and_return_conditional_losses, query_layer_call_fn, key_layer_call_and_return_conditional_losses, key_layer_call_fn, value_layer_call_and_return_conditional_losses while saving (showing 5 of 30). These functions will not be directly callable after loading.\n",
            "WARNING:absl:Found untraced functions such as query_layer_call_and_return_conditional_losses, query_layer_call_fn, key_layer_call_and_return_conditional_losses, key_layer_call_fn, value_layer_call_and_return_conditional_losses while saving (showing 5 of 30). These functions will not be directly callable after loading.\n"
          ],
          "name": "stderr"
        },
        {
          "output_type": "stream",
          "text": [
            "INFO:tensorflow:Assets written to: /content/drive/MyDrive/model-test/assets\n"
          ],
          "name": "stdout"
        },
        {
          "output_type": "stream",
          "text": [
            "INFO:tensorflow:Assets written to: /content/drive/MyDrive/model-test/assets\n"
          ],
          "name": "stderr"
        },
        {
          "output_type": "stream",
          "text": [
            "Epoch 12/75\n",
            "657/657 [==============================] - 6s 9ms/step - loss: 0.2034 - auroc: 0.9284 - aupr: 0.8013 - val_loss: 0.1944 - val_auroc: 0.9495 - val_aupr: 0.8326\n"
          ],
          "name": "stdout"
        },
        {
          "output_type": "stream",
          "text": [
            "WARNING:absl:Found untraced functions such as query_layer_call_and_return_conditional_losses, query_layer_call_fn, key_layer_call_and_return_conditional_losses, key_layer_call_fn, value_layer_call_and_return_conditional_losses while saving (showing 5 of 30). These functions will not be directly callable after loading.\n",
            "WARNING:absl:Found untraced functions such as query_layer_call_and_return_conditional_losses, query_layer_call_fn, key_layer_call_and_return_conditional_losses, key_layer_call_fn, value_layer_call_and_return_conditional_losses while saving (showing 5 of 30). These functions will not be directly callable after loading.\n"
          ],
          "name": "stderr"
        },
        {
          "output_type": "stream",
          "text": [
            "INFO:tensorflow:Assets written to: /content/drive/MyDrive/model-test/assets\n"
          ],
          "name": "stdout"
        },
        {
          "output_type": "stream",
          "text": [
            "INFO:tensorflow:Assets written to: /content/drive/MyDrive/model-test/assets\n"
          ],
          "name": "stderr"
        },
        {
          "output_type": "stream",
          "text": [
            "Epoch 13/75\n",
            "657/657 [==============================] - 6s 9ms/step - loss: 0.2025 - auroc: 0.9305 - aupr: 0.8017 - val_loss: 0.1811 - val_auroc: 0.9538 - val_aupr: 0.8470\n"
          ],
          "name": "stdout"
        },
        {
          "output_type": "stream",
          "text": [
            "WARNING:absl:Found untraced functions such as query_layer_call_and_return_conditional_losses, query_layer_call_fn, key_layer_call_and_return_conditional_losses, key_layer_call_fn, value_layer_call_and_return_conditional_losses while saving (showing 5 of 30). These functions will not be directly callable after loading.\n",
            "WARNING:absl:Found untraced functions such as query_layer_call_and_return_conditional_losses, query_layer_call_fn, key_layer_call_and_return_conditional_losses, key_layer_call_fn, value_layer_call_and_return_conditional_losses while saving (showing 5 of 30). These functions will not be directly callable after loading.\n"
          ],
          "name": "stderr"
        },
        {
          "output_type": "stream",
          "text": [
            "INFO:tensorflow:Assets written to: /content/drive/MyDrive/model-test/assets\n"
          ],
          "name": "stdout"
        },
        {
          "output_type": "stream",
          "text": [
            "INFO:tensorflow:Assets written to: /content/drive/MyDrive/model-test/assets\n"
          ],
          "name": "stderr"
        },
        {
          "output_type": "stream",
          "text": [
            "Epoch 14/75\n",
            "657/657 [==============================] - 6s 9ms/step - loss: 0.1944 - auroc: 0.9347 - aupr: 0.8132 - val_loss: 0.1904 - val_auroc: 0.9502 - val_aupr: 0.8331\n",
            "Epoch 15/75\n",
            "657/657 [==============================] - 6s 9ms/step - loss: 0.1917 - auroc: 0.9369 - aupr: 0.8185 - val_loss: 0.1878 - val_auroc: 0.9509 - val_aupr: 0.8423\n",
            "Epoch 16/75\n",
            "657/657 [==============================] - 6s 8ms/step - loss: 0.1924 - auroc: 0.9368 - aupr: 0.8204 - val_loss: 0.1925 - val_auroc: 0.9497 - val_aupr: 0.8291\n",
            "Epoch 17/75\n",
            "657/657 [==============================] - 6s 9ms/step - loss: 0.1899 - auroc: 0.9379 - aupr: 0.8233 - val_loss: 0.1745 - val_auroc: 0.9612 - val_aupr: 0.8652\n"
          ],
          "name": "stdout"
        },
        {
          "output_type": "stream",
          "text": [
            "WARNING:absl:Found untraced functions such as query_layer_call_and_return_conditional_losses, query_layer_call_fn, key_layer_call_and_return_conditional_losses, key_layer_call_fn, value_layer_call_and_return_conditional_losses while saving (showing 5 of 30). These functions will not be directly callable after loading.\n",
            "WARNING:absl:Found untraced functions such as query_layer_call_and_return_conditional_losses, query_layer_call_fn, key_layer_call_and_return_conditional_losses, key_layer_call_fn, value_layer_call_and_return_conditional_losses while saving (showing 5 of 30). These functions will not be directly callable after loading.\n"
          ],
          "name": "stderr"
        },
        {
          "output_type": "stream",
          "text": [
            "INFO:tensorflow:Assets written to: /content/drive/MyDrive/model-test/assets\n"
          ],
          "name": "stdout"
        },
        {
          "output_type": "stream",
          "text": [
            "INFO:tensorflow:Assets written to: /content/drive/MyDrive/model-test/assets\n"
          ],
          "name": "stderr"
        },
        {
          "output_type": "stream",
          "text": [
            "Epoch 18/75\n",
            "657/657 [==============================] - 6s 9ms/step - loss: 0.1869 - auroc: 0.9402 - aupr: 0.8271 - val_loss: 0.1751 - val_auroc: 0.9584 - val_aupr: 0.8527\n",
            "Epoch 19/75\n",
            "657/657 [==============================] - 6s 8ms/step - loss: 0.1848 - auroc: 0.9413 - aupr: 0.8307 - val_loss: 0.1728 - val_auroc: 0.9596 - val_aupr: 0.8639\n",
            "Epoch 20/75\n",
            "657/657 [==============================] - 5s 8ms/step - loss: 0.1849 - auroc: 0.9411 - aupr: 0.8299 - val_loss: 0.1791 - val_auroc: 0.9549 - val_aupr: 0.8490\n",
            "Epoch 21/75\n",
            "657/657 [==============================] - 5s 8ms/step - loss: 0.1801 - auroc: 0.9438 - aupr: 0.8371 - val_loss: 0.1932 - val_auroc: 0.9477 - val_aupr: 0.8242\n",
            "Epoch 22/75\n",
            "657/657 [==============================] - 6s 9ms/step - loss: 0.1791 - auroc: 0.9450 - aupr: 0.8378 - val_loss: 0.1730 - val_auroc: 0.9600 - val_aupr: 0.8573\n",
            "\n",
            "Epoch 00022: ReduceLROnPlateau reducing learning rate to 0.00010000000474974513.\n",
            "Epoch 23/75\n",
            "657/657 [==============================] - 6s 9ms/step - loss: 0.1762 - auroc: 0.9470 - aupr: 0.8432 - val_loss: 0.1656 - val_auroc: 0.9632 - val_aupr: 0.8701\n"
          ],
          "name": "stdout"
        },
        {
          "output_type": "stream",
          "text": [
            "WARNING:absl:Found untraced functions such as query_layer_call_and_return_conditional_losses, query_layer_call_fn, key_layer_call_and_return_conditional_losses, key_layer_call_fn, value_layer_call_and_return_conditional_losses while saving (showing 5 of 30). These functions will not be directly callable after loading.\n",
            "WARNING:absl:Found untraced functions such as query_layer_call_and_return_conditional_losses, query_layer_call_fn, key_layer_call_and_return_conditional_losses, key_layer_call_fn, value_layer_call_and_return_conditional_losses while saving (showing 5 of 30). These functions will not be directly callable after loading.\n"
          ],
          "name": "stderr"
        },
        {
          "output_type": "stream",
          "text": [
            "INFO:tensorflow:Assets written to: /content/drive/MyDrive/model-test/assets\n"
          ],
          "name": "stdout"
        },
        {
          "output_type": "stream",
          "text": [
            "INFO:tensorflow:Assets written to: /content/drive/MyDrive/model-test/assets\n"
          ],
          "name": "stderr"
        },
        {
          "output_type": "stream",
          "text": [
            "Epoch 24/75\n",
            "657/657 [==============================] - 5s 8ms/step - loss: 0.1741 - auroc: 0.9483 - aupr: 0.8465 - val_loss: 0.1645 - val_auroc: 0.9628 - val_aupr: 0.8702\n"
          ],
          "name": "stdout"
        },
        {
          "output_type": "stream",
          "text": [
            "WARNING:absl:Found untraced functions such as query_layer_call_and_return_conditional_losses, query_layer_call_fn, key_layer_call_and_return_conditional_losses, key_layer_call_fn, value_layer_call_and_return_conditional_losses while saving (showing 5 of 30). These functions will not be directly callable after loading.\n",
            "WARNING:absl:Found untraced functions such as query_layer_call_and_return_conditional_losses, query_layer_call_fn, key_layer_call_and_return_conditional_losses, key_layer_call_fn, value_layer_call_and_return_conditional_losses while saving (showing 5 of 30). These functions will not be directly callable after loading.\n"
          ],
          "name": "stderr"
        },
        {
          "output_type": "stream",
          "text": [
            "INFO:tensorflow:Assets written to: /content/drive/MyDrive/model-test/assets\n"
          ],
          "name": "stdout"
        },
        {
          "output_type": "stream",
          "text": [
            "INFO:tensorflow:Assets written to: /content/drive/MyDrive/model-test/assets\n"
          ],
          "name": "stderr"
        },
        {
          "output_type": "stream",
          "text": [
            "Epoch 25/75\n",
            "657/657 [==============================] - 5s 8ms/step - loss: 0.1722 - auroc: 0.9491 - aupr: 0.8504 - val_loss: 0.1643 - val_auroc: 0.9641 - val_aupr: 0.8731\n"
          ],
          "name": "stdout"
        },
        {
          "output_type": "stream",
          "text": [
            "WARNING:absl:Found untraced functions such as query_layer_call_and_return_conditional_losses, query_layer_call_fn, key_layer_call_and_return_conditional_losses, key_layer_call_fn, value_layer_call_and_return_conditional_losses while saving (showing 5 of 30). These functions will not be directly callable after loading.\n",
            "WARNING:absl:Found untraced functions such as query_layer_call_and_return_conditional_losses, query_layer_call_fn, key_layer_call_and_return_conditional_losses, key_layer_call_fn, value_layer_call_and_return_conditional_losses while saving (showing 5 of 30). These functions will not be directly callable after loading.\n"
          ],
          "name": "stderr"
        },
        {
          "output_type": "stream",
          "text": [
            "INFO:tensorflow:Assets written to: /content/drive/MyDrive/model-test/assets\n"
          ],
          "name": "stdout"
        },
        {
          "output_type": "stream",
          "text": [
            "INFO:tensorflow:Assets written to: /content/drive/MyDrive/model-test/assets\n"
          ],
          "name": "stderr"
        },
        {
          "output_type": "stream",
          "text": [
            "Epoch 26/75\n",
            "657/657 [==============================] - 6s 9ms/step - loss: 0.1715 - auroc: 0.9490 - aupr: 0.8511 - val_loss: 0.1694 - val_auroc: 0.9617 - val_aupr: 0.8658\n",
            "Epoch 27/75\n",
            "657/657 [==============================] - 6s 9ms/step - loss: 0.1695 - auroc: 0.9513 - aupr: 0.8550 - val_loss: 0.1637 - val_auroc: 0.9634 - val_aupr: 0.8712\n",
            "Epoch 28/75\n",
            "657/657 [==============================] - 5s 8ms/step - loss: 0.1728 - auroc: 0.9490 - aupr: 0.8507 - val_loss: 0.1667 - val_auroc: 0.9628 - val_aupr: 0.8685\n",
            "Epoch 29/75\n",
            "657/657 [==============================] - 5s 8ms/step - loss: 0.1707 - auroc: 0.9501 - aupr: 0.8538 - val_loss: 0.1651 - val_auroc: 0.9636 - val_aupr: 0.8705\n",
            "Epoch 30/75\n",
            "657/657 [==============================] - 5s 8ms/step - loss: 0.1698 - auroc: 0.9514 - aupr: 0.8531 - val_loss: 0.1636 - val_auroc: 0.9632 - val_aupr: 0.8703\n",
            "\n",
            "Epoch 00030: ReduceLROnPlateau reducing learning rate to 2.0000000949949027e-05.\n",
            "Epoch 31/75\n",
            "657/657 [==============================] - 5s 8ms/step - loss: 0.1687 - auroc: 0.9512 - aupr: 0.8563 - val_loss: 0.1642 - val_auroc: 0.9633 - val_aupr: 0.8719\n",
            "Epoch 32/75\n",
            "657/657 [==============================] - 5s 8ms/step - loss: 0.1692 - auroc: 0.9513 - aupr: 0.8553 - val_loss: 0.1639 - val_auroc: 0.9635 - val_aupr: 0.8723\n",
            "Epoch 33/75\n",
            "657/657 [==============================] - 5s 8ms/step - loss: 0.1689 - auroc: 0.9501 - aupr: 0.8558 - val_loss: 0.1628 - val_auroc: 0.9638 - val_aupr: 0.8734\n"
          ],
          "name": "stdout"
        },
        {
          "output_type": "stream",
          "text": [
            "WARNING:absl:Found untraced functions such as query_layer_call_and_return_conditional_losses, query_layer_call_fn, key_layer_call_and_return_conditional_losses, key_layer_call_fn, value_layer_call_and_return_conditional_losses while saving (showing 5 of 30). These functions will not be directly callable after loading.\n",
            "WARNING:absl:Found untraced functions such as query_layer_call_and_return_conditional_losses, query_layer_call_fn, key_layer_call_and_return_conditional_losses, key_layer_call_fn, value_layer_call_and_return_conditional_losses while saving (showing 5 of 30). These functions will not be directly callable after loading.\n"
          ],
          "name": "stderr"
        },
        {
          "output_type": "stream",
          "text": [
            "INFO:tensorflow:Assets written to: /content/drive/MyDrive/model-test/assets\n"
          ],
          "name": "stdout"
        },
        {
          "output_type": "stream",
          "text": [
            "INFO:tensorflow:Assets written to: /content/drive/MyDrive/model-test/assets\n"
          ],
          "name": "stderr"
        },
        {
          "output_type": "stream",
          "text": [
            "Epoch 34/75\n",
            "657/657 [==============================] - 5s 8ms/step - loss: 0.1681 - auroc: 0.9512 - aupr: 0.8569 - val_loss: 0.1644 - val_auroc: 0.9633 - val_aupr: 0.8712\n",
            "Epoch 35/75\n",
            "657/657 [==============================] - 6s 9ms/step - loss: 0.1689 - auroc: 0.9511 - aupr: 0.8566 - val_loss: 0.1643 - val_auroc: 0.9636 - val_aupr: 0.8712\n",
            "Epoch 36/75\n",
            "657/657 [==============================] - 5s 8ms/step - loss: 0.1658 - auroc: 0.9531 - aupr: 0.8615 - val_loss: 0.1645 - val_auroc: 0.9636 - val_aupr: 0.8718\n",
            "Epoch 37/75\n",
            "657/657 [==============================] - 6s 9ms/step - loss: 0.1646 - auroc: 0.9539 - aupr: 0.8604 - val_loss: 0.1642 - val_auroc: 0.9635 - val_aupr: 0.8713\n",
            "Epoch 38/75\n",
            "657/657 [==============================] - 6s 9ms/step - loss: 0.1693 - auroc: 0.9508 - aupr: 0.8564 - val_loss: 0.1644 - val_auroc: 0.9634 - val_aupr: 0.8704\n",
            "\n",
            "Epoch 00038: ReduceLROnPlateau reducing learning rate to 4.000000262749381e-06.\n",
            "Epoch 39/75\n",
            "657/657 [==============================] - 6s 8ms/step - loss: 0.1665 - auroc: 0.9523 - aupr: 0.8589 - val_loss: 0.1650 - val_auroc: 0.9631 - val_aupr: 0.8705\n",
            "Epoch 40/75\n",
            "657/657 [==============================] - 6s 9ms/step - loss: 0.1697 - auroc: 0.9511 - aupr: 0.8549 - val_loss: 0.1639 - val_auroc: 0.9635 - val_aupr: 0.8718\n",
            "Epoch 41/75\n",
            "657/657 [==============================] - 5s 8ms/step - loss: 0.1692 - auroc: 0.9510 - aupr: 0.8562 - val_loss: 0.1640 - val_auroc: 0.9637 - val_aupr: 0.8719\n",
            "Epoch 42/75\n",
            "657/657 [==============================] - 5s 8ms/step - loss: 0.1661 - auroc: 0.9526 - aupr: 0.8590 - val_loss: 0.1638 - val_auroc: 0.9636 - val_aupr: 0.8721\n",
            "Epoch 43/75\n",
            "657/657 [==============================] - 5s 8ms/step - loss: 0.1659 - auroc: 0.9530 - aupr: 0.8608 - val_loss: 0.1638 - val_auroc: 0.9636 - val_aupr: 0.8722\n",
            "\n",
            "Epoch 00043: ReduceLROnPlateau reducing learning rate to 8.000000889296644e-07.\n",
            "Epoch 44/75\n",
            "657/657 [==============================] - 5s 8ms/step - loss: 0.1667 - auroc: 0.9521 - aupr: 0.8587 - val_loss: 0.1641 - val_auroc: 0.9636 - val_aupr: 0.8720\n",
            "Epoch 45/75\n",
            "657/657 [==============================] - 5s 8ms/step - loss: 0.1685 - auroc: 0.9506 - aupr: 0.8578 - val_loss: 0.1643 - val_auroc: 0.9635 - val_aupr: 0.8720\n",
            "Epoch 46/75\n",
            "657/657 [==============================] - 5s 8ms/step - loss: 0.1672 - auroc: 0.9518 - aupr: 0.8572 - val_loss: 0.1641 - val_auroc: 0.9635 - val_aupr: 0.8718\n",
            "Epoch 47/75\n",
            "657/657 [==============================] - 6s 8ms/step - loss: 0.1668 - auroc: 0.9524 - aupr: 0.8585 - val_loss: 0.1650 - val_auroc: 0.9634 - val_aupr: 0.8711\n",
            "Epoch 48/75\n",
            "657/657 [==============================] - 5s 8ms/step - loss: 0.1702 - auroc: 0.9503 - aupr: 0.8546 - val_loss: 0.1647 - val_auroc: 0.9635 - val_aupr: 0.8717\n",
            "\n",
            "Epoch 00048: ReduceLROnPlateau reducing learning rate to 1.6000001323845936e-07.\n",
            "Epoch 00048: early stopping\n"
          ],
          "name": "stdout"
        },
        {
          "output_type": "execute_result",
          "data": {
            "application/vnd.google.colaboratory.intrinsic+json": {
              "type": "string"
            },
            "text/plain": [
              "\"for i in range(len(params)):\\n    for j in range(len(params[i])):\\n        direc = names[i]\\n        name = f'model-{params[i][j]}'\\n        \\n        args = base1.copy()\\n        args[i] = params[i][j]\\n        \\n        model = build_model(args)\\n        \\n        # Callbacks\\n        early_stop = tf.keras.callbacks.EarlyStopping(monitor='val_aupr', patience=15, verbose=1, mode='max', restore_best_weights=False)\\n        lr_decay = tf.keras.callbacks.ReduceLROnPlateau(monitor='val_aupr', factor=0.2, patience=5, min_lr=1e-7, mode='max', verbose=1) \\n        tensorboard = tf.keras.callbacks.Tensorboard(log_dir=f'/content/drive/MyDrive/ColabNotebooks/ConvAttTests/logs/{direc}/{name}')\\n        checkpoint = tf.keras.callbacks.ModelCheckpoint(filepath=f'/content/drive/MyDrive/ColabNotebooks/ConvAttTets/models/{direc}/{name}')\\n        \\n        model.fit(x=x_train, y=y_train, epochs=10, validation_data=(x_valid, y_valid), callbacks=[early_stop, lr_decay, tensorboard, checkpoint])\""
            ]
          },
          "metadata": {
            "tags": []
          },
          "execution_count": 17
        }
      ]
    }
  ]
}