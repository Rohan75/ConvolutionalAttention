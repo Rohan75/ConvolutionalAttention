{
 "cells": [
  {
   "cell_type": "code",
   "execution_count": 5,
   "metadata": {},
   "outputs": [
    {
     "name": "stdout",
     "output_type": "stream",
     "text": [
      "Requirement already satisfied: logomaker in c:\\users\\ghotr\\appdata\\local\\programs\\python\\python38\\lib\\site-packages (0.8)\n",
      "Requirement already satisfied: matplotlib in c:\\users\\ghotr\\appdata\\local\\programs\\python\\python38\\lib\\site-packages (from logomaker) (3.3.4)\n",
      "Requirement already satisfied: numpy in c:\\users\\ghotr\\appdata\\local\\programs\\python\\python38\\lib\\site-packages (from logomaker) (1.19.5)\n",
      "Requirement already satisfied: pandas in c:\\users\\ghotr\\appdata\\local\\programs\\python\\python38\\lib\\site-packages (from logomaker) (1.2.1)\n",
      "Requirement already satisfied: cycler>=0.10 in c:\\users\\ghotr\\appdata\\local\\programs\\python\\python38\\lib\\site-packages (from matplotlib->logomaker) (0.10.0)\n",
      "Requirement already satisfied: kiwisolver>=1.0.1 in c:\\users\\ghotr\\appdata\\local\\programs\\python\\python38\\lib\\site-packages (from matplotlib->logomaker) (1.3.1)\n",
      "Requirement already satisfied: pyparsing!=2.0.4,!=2.1.2,!=2.1.6,>=2.0.3 in c:\\users\\ghotr\\appdata\\local\\programs\\python\\python38\\lib\\site-packages (from matplotlib->logomaker) (2.4.7)\n",
      "Requirement already satisfied: pillow>=6.2.0 in c:\\users\\ghotr\\appdata\\local\\programs\\python\\python38\\lib\\site-packages (from matplotlib->logomaker) (8.1.0)\n",
      "Requirement already satisfied: python-dateutil>=2.1 in c:\\users\\ghotr\\appdata\\local\\programs\\python\\python38\\lib\\site-packages (from matplotlib->logomaker) (2.8.1)\n",
      "Requirement already satisfied: six in c:\\users\\ghotr\\appdata\\local\\programs\\python\\python38\\lib\\site-packages (from cycler>=0.10->matplotlib->logomaker) (1.15.0)\n",
      "Requirement already satisfied: pytz>=2017.3 in c:\\users\\ghotr\\appdata\\local\\programs\\python\\python38\\lib\\site-packages (from pandas->logomaker) (2021.1)\n"
     ]
    }
   ],
   "source": [
    "!pip install logomaker"
   ]
  },
  {
   "cell_type": "code",
   "execution_count": 46,
   "metadata": {},
   "outputs": [],
   "source": [
    "import tensorflow as tf\n",
    "import numpy as np\n",
    "\n",
    "import h5py, os, io\n",
    "import requests as rq\n",
    "\n",
    "from tfomics import moana, evaluate, impress\n",
    "import matplotlib.pyplot as plt"
   ]
  },
  {
   "cell_type": "code",
   "execution_count": 47,
   "metadata": {},
   "outputs": [],
   "source": [
    "data = rq.get('https://www.dropbox.com/s/c3umbo5y13sqcfp/synthetic_dataset.h5?raw=true')\n",
    "data.raise_for_status()\n",
    "\n",
    "with h5py.File(io.BytesIO(data.content), 'r') as dataset:\n",
    "    x_train = np.array(dataset['X_train']).astype(np.float32).transpose([0, 2, 1])\n",
    "    y_train = np.array(dataset['Y_train']).astype(np.float32)\n",
    "    x_valid = np.array(dataset['X_valid']).astype(np.float32).transpose([0, 2, 1])\n",
    "    y_valid = np.array(dataset['Y_valid']).astype(np.int32)\n",
    "    x_test = np.array(dataset['X_test']).astype(np.float32).transpose([0, 2, 1])\n",
    "    y_test = np.array(dataset['Y_test']).astype(np.int32)"
   ]
  },
  {
   "cell_type": "code",
   "execution_count": 51,
   "metadata": {
    "scrolled": false
   },
   "outputs": [],
   "source": [
    "categories = [i for i in os.walk('results')][0][1]\n",
    "for i in range(len(categories)):\n",
    "    models = [i for i in os.walk(os.path.join('results', categories[i]))][0][1]\n",
    "    for j in range(1, len(models)):\n",
    "        num_filters = moana.count_meme_entries(os.path.join('motifs', categories[i], models[j] + '.meme'))\n",
    "        motif_dir = os.path.join('results', categories[i], models[j], 'tomtom.tsv')\n",
    "        \n",
    "        match_frac, match_any, filter_matches, filter_qvalues, true_qvalues, true_hits = evaluate.motif_comparison_synthetic_dataset(motif_dir, num_filters=num_filters)\n",
    "        \n",
    "        \"\"\"model = tf.keras.models.load_model(h5py.File(os.path.join('models', categories[i], models[j] + '.h5')))\n",
    "        ppms = moana.filter_activations(x_test, model, layer=3, window=20, threshold=0.5)\n",
    "        fig = plt.figure(figsize=(25, 4))\n",
    "        impress.plot_filters(ppms, fig, num_cols=8, names=filter_matches, fontsize=14)\"\"\""
   ]
  }
 ],
 "metadata": {
  "kernelspec": {
   "display_name": "Python 3",
   "language": "python",
   "name": "python3"
  },
  "language_info": {
   "codemirror_mode": {
    "name": "ipython",
    "version": 3
   },
   "file_extension": ".py",
   "mimetype": "text/x-python",
   "name": "python",
   "nbconvert_exporter": "python",
   "pygments_lexer": "ipython3",
   "version": "3.8.7"
  }
 },
 "nbformat": 4,
 "nbformat_minor": 4
}
