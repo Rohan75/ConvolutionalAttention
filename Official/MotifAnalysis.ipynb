{
 "cells": [
  {
   "cell_type": "code",
   "execution_count": 52,
   "metadata": {},
   "outputs": [],
   "source": [
    "import numpy as np\n",
    "import pandas as pd"
   ]
  },
  {
   "cell_type": "code",
   "execution_count": 83,
   "metadata": {},
   "outputs": [
    {
     "name": "stderr",
     "output_type": "stream",
     "text": [
      "<ipython-input-83-6963e0961df5>:14: VisibleDeprecationWarning: Creating an ndarray from ragged nested sequences (which is a list-or-tuple of lists-or-tuples-or ndarrays with different lengths or shapes) is deprecated. If you meant to do this, you must specify 'dtype=object' when creating the ndarray\n",
      "  motifs = np.array([arid3, cebpb, fosl1, gabpa, mafk, max1, mef2a, nfyb, sp1, srf, stat1, yy1])\n"
     ]
    }
   ],
   "source": [
    "arid3 = ['MA0151.1', 'MA0601.1', 'PB0001.1']\n",
    "cebpb = ['MA0466.1', 'MA0466.2']\n",
    "fosl1 = ['MA0477.1']\n",
    "gabpa = ['MA0062.1', 'MA0062.2']\n",
    "mafk = ['MA0496.1', 'MA0496.2']\n",
    "max1 = ['MA0058.1', 'MA0058.2', 'MA0058.3']\n",
    "mef2a = ['MA0052.1', 'MA0052.2', 'MA0052.3']\n",
    "nfyb = ['MA0502.1', 'MA0060.1', 'MA0060.2']\n",
    "sp1 = ['MA0079.1', 'MA0079.2', 'MA0079.3']\n",
    "srf = ['MA0083.1', 'MA0083.2', 'MA0083.3']\n",
    "stat1 = ['MA0137.1', 'MA0137.2', 'MA0137.3', 'MA0660.1', 'MA0773.1']\n",
    "yy1 = ['MA0095.1', 'MA0095.2']\n",
    "\n",
    "motifs = np.array([arid3, cebpb, fosl1, gabpa, mafk, max1, mef2a, nfyb, sp1, srf, stat1, yy1])\n",
    "motif_names = ['Arid3', 'CEBPB', 'FOSL1', 'GABPA', 'MAFK', 'MAX', 'MEF2A', 'NFYB', 'SP1', 'SRF', 'STAT1', 'YY1']"
   ]
  },
  {
   "cell_type": "code",
   "execution_count": 85,
   "metadata": {},
   "outputs": [
    {
     "name": "stdout",
     "output_type": "stream",
     "text": [
      "13\n",
      "['MA0466.2', 'MA0137.3']\n"
     ]
    },
    {
     "name": "stderr",
     "output_type": "stream",
     "text": [
      "<ipython-input-85-df77e33a9358>:7: FutureWarning: elementwise comparison failed; returning scalar instead, but in the future will perform elementwise comparison\n",
      "  if 'MA0137.3' in kernel.get('Target_ID').to_numpy():\n"
     ]
    }
   ],
   "source": [
    "targets = np.array([])\n",
    "for i in range(32):\n",
    "    kernel = pd.read_csv(f'results/model-test/filter-{i+1}/tomtom.tsv', sep='\\t')\n",
    "    kernel.drop(kernel.tail(3).index, inplace=True)\n",
    "\n",
    "    targets = np.concatenate((targets, kernel.get('Target_ID').to_numpy()))\n",
    "    if 'MA0137.3' in kernel.get('Target_ID').to_numpy():\n",
    "        print(i+1)\n",
    "\n",
    "matches = []\n",
    "for target in targets:\n",
    "    if target in np.hstack(motifs):\n",
    "        matches.append(target)\n",
    "print(matches)"
   ]
  }
 ],
 "metadata": {
  "kernelspec": {
   "display_name": "Python 3",
   "language": "python",
   "name": "python3"
  },
  "language_info": {
   "codemirror_mode": {
    "name": "ipython",
    "version": 3
   },
   "file_extension": ".py",
   "mimetype": "text/x-python",
   "name": "python",
   "nbconvert_exporter": "python",
   "pygments_lexer": "ipython3",
   "version": "3.8.7"
  }
 },
 "nbformat": 4,
 "nbformat_minor": 4
}
