{
 "cells": [
  {
   "cell_type": "code",
   "execution_count": 2,
   "metadata": {},
   "outputs": [],
   "source": [
    "import tensorflow as tf\n",
    "\n",
    "import numpy as np\n",
    "import requests as rq\n",
    "import io, h5py, os\n",
    "\n",
    "import matplotlib.pyplot as plt"
   ]
  },
  {
   "cell_type": "code",
   "execution_count": 3,
   "metadata": {},
   "outputs": [],
   "source": [
    "data = rq.get('https://www.dropbox.com/s/c3umbo5y13sqcfp/synthetic_dataset.h5?raw=true')\n",
    "data.raise_for_status()\n",
    "\n",
    "with h5py.File(io.BytesIO(data.content), 'r') as dataset:\n",
    "    x_train = np.array(dataset['X_train']).astype(np.float32).transpose([0, 2, 1])\n",
    "    y_train = np.array(dataset['Y_train']).astype(np.float32)\n",
    "    x_valid = np.array(dataset['X_valid']).astype(np.float32).transpose([0, 2, 1])\n",
    "    y_valid = np.array(dataset['Y_valid']).astype(np.int32)\n",
    "    x_test = np.array(dataset['X_test']).astype(np.float32).transpose([0, 2, 1])\n",
    "    y_test = np.array(dataset['Y_test']).astype(np.int32)"
   ]
  },
  {
   "cell_type": "code",
   "execution_count": 4,
   "metadata": {},
   "outputs": [],
   "source": [
    "directories = [i[0] for i in os.walk('models')][1:]\n",
    "models = [i[2] for i in os.walk('models')][1:]"
   ]
  },
  {
   "cell_type": "code",
   "execution_count": 5,
   "metadata": {},
   "outputs": [],
   "source": [
    "def get_ppms(model):\n",
    "    layer = 3        # activation layer for 1st convolutional layer\n",
    "    threshold = 0.5  # threshold for significant activations\n",
    "    window = 20      # window size of alignment \n",
    "\n",
    "    # get feature maps of 1st convolutional layer after activation\n",
    "    intermediate = tf.keras.Model(inputs=model.inputs, outputs=model.layers[layer].output)\n",
    "    fmap = intermediate.predict(x_test)\n",
    "    num_filters = fmap.shape[-1]\n",
    "\n",
    "    # set the left and right window sizes\n",
    "    window_left = int(window/2)\n",
    "    window_right = window - window_left\n",
    "\n",
    "    N, L, A = x_test.shape\n",
    "\n",
    "    ppms = []\n",
    "    for filter_index in range(num_filters):\n",
    "\n",
    "        # find regions above threshold\n",
    "        coords = np.where(fmap[:,:,filter_index] > np.max(fmap[:,:,filter_index])*threshold)\n",
    "        x, y = coords\n",
    "\n",
    "        # sort score\n",
    "        index = np.argsort(fmap[x,y,filter_index])[::-1]\n",
    "        data_index = x[index].astype(int)\n",
    "        pos_index = y[index].astype(int)\n",
    "\n",
    "        # make a sequence alignment centered about each activation (above threshold)\n",
    "        seq_align = []\n",
    "        for i in range(len(pos_index)):\n",
    "\n",
    "            # determine position of window about each filter activation\n",
    "            start_window = pos_index[i] - window_left\n",
    "            end_window = pos_index[i] + window_right\n",
    "\n",
    "            # check to make sure positions are valid\n",
    "            if (start_window > 0) & (end_window < L):\n",
    "                seq = x_test[data_index[i], start_window:end_window, :]\n",
    "                seq_align.append(seq)\n",
    "\n",
    "        # calculate position probability matrix\n",
    "\n",
    "        ppm = np.mean(seq_align, axis=0)\n",
    "\n",
    "        # splice positions with uniform probability\n",
    "        if len(np.where(ppm > 0.4)) > 1:\n",
    "            x, y = np.where(ppm > 0.4)\n",
    "            if x.shape[0] > 0:\n",
    "                low = max(x[0]-1, 0)\n",
    "                high = min(x[-1]+1, ppm.shape[0])\n",
    "                ppm = ppm[low:high]\n",
    "\n",
    "        ppms.append(ppm)\n",
    "    ppms = np.array(ppms)\n",
    "    \n",
    "    return ppms"
   ]
  },
  {
   "cell_type": "code",
   "execution_count": 6,
   "metadata": {},
   "outputs": [
    {
     "name": "stdout",
     "output_type": "stream",
     "text": [
      "0.0\n",
      "(32, 20, 4)\n"
     ]
    },
    {
     "name": "stderr",
     "output_type": "stream",
     "text": [
      "<ipython-input-5-cbd79e499075>:55: VisibleDeprecationWarning: Creating an ndarray from ragged nested sequences (which is a list-or-tuple of lists-or-tuples-or ndarrays with different lengths or shapes) is deprecated. If you meant to do this, you must specify 'dtype=object' when creating the ndarray\n",
      "  ppms = np.array(ppms)\n"
     ]
    },
    {
     "name": "stdout",
     "output_type": "stream",
     "text": [
      "(32,)\n",
      "8.333333333333332\n",
      "(32,)\n"
     ]
    },
    {
     "ename": "KeyboardInterrupt",
     "evalue": "",
     "output_type": "error",
     "traceback": [
      "\u001b[1;31m---------------------------------------------------------------------------\u001b[0m",
      "\u001b[1;31mKeyboardInterrupt\u001b[0m                         Traceback (most recent call last)",
      "\u001b[1;32m<ipython-input-6-caa4d56d6ed4>\u001b[0m in \u001b[0;36m<module>\u001b[1;34m\u001b[0m\n\u001b[0;32m      3\u001b[0m     \u001b[1;32mfor\u001b[0m \u001b[0mj\u001b[0m \u001b[1;32min\u001b[0m \u001b[0mrange\u001b[0m\u001b[1;33m(\u001b[0m\u001b[0mlen\u001b[0m\u001b[1;33m(\u001b[0m\u001b[0mmodels\u001b[0m\u001b[1;33m[\u001b[0m\u001b[0mi\u001b[0m\u001b[1;33m]\u001b[0m\u001b[1;33m)\u001b[0m\u001b[1;33m)\u001b[0m\u001b[1;33m:\u001b[0m\u001b[1;33m\u001b[0m\u001b[1;33m\u001b[0m\u001b[0m\n\u001b[0;32m      4\u001b[0m         \u001b[0mmodel\u001b[0m \u001b[1;33m=\u001b[0m \u001b[0mtf\u001b[0m\u001b[1;33m.\u001b[0m\u001b[0mkeras\u001b[0m\u001b[1;33m.\u001b[0m\u001b[0mmodels\u001b[0m\u001b[1;33m.\u001b[0m\u001b[0mload_model\u001b[0m\u001b[1;33m(\u001b[0m\u001b[0mh5py\u001b[0m\u001b[1;33m.\u001b[0m\u001b[0mFile\u001b[0m\u001b[1;33m(\u001b[0m\u001b[0mos\u001b[0m\u001b[1;33m.\u001b[0m\u001b[0mpath\u001b[0m\u001b[1;33m.\u001b[0m\u001b[0mjoin\u001b[0m\u001b[1;33m(\u001b[0m\u001b[0mdirectories\u001b[0m\u001b[1;33m[\u001b[0m\u001b[0mi\u001b[0m\u001b[1;33m]\u001b[0m\u001b[1;33m,\u001b[0m \u001b[0mmodels\u001b[0m\u001b[1;33m[\u001b[0m\u001b[0mi\u001b[0m\u001b[1;33m]\u001b[0m\u001b[1;33m[\u001b[0m\u001b[0mj\u001b[0m\u001b[1;33m]\u001b[0m\u001b[1;33m)\u001b[0m\u001b[1;33m,\u001b[0m \u001b[1;34m'r'\u001b[0m\u001b[1;33m)\u001b[0m\u001b[1;33m)\u001b[0m\u001b[1;33m\u001b[0m\u001b[1;33m\u001b[0m\u001b[0m\n\u001b[1;32m----> 5\u001b[1;33m         \u001b[0mppms\u001b[0m \u001b[1;33m=\u001b[0m \u001b[0mget_ppms\u001b[0m\u001b[1;33m(\u001b[0m\u001b[0mmodel\u001b[0m\u001b[1;33m)\u001b[0m\u001b[1;33m\u001b[0m\u001b[1;33m\u001b[0m\u001b[0m\n\u001b[0m\u001b[0;32m      6\u001b[0m         \u001b[0mprint\u001b[0m\u001b[1;33m(\u001b[0m\u001b[0mppms\u001b[0m\u001b[1;33m.\u001b[0m\u001b[0mshape\u001b[0m\u001b[1;33m)\u001b[0m\u001b[1;33m\u001b[0m\u001b[1;33m\u001b[0m\u001b[0m\n\u001b[0;32m      7\u001b[0m         \u001b[0mexit\u001b[0m\u001b[1;33m(\u001b[0m\u001b[1;33m)\u001b[0m\u001b[1;33m\u001b[0m\u001b[1;33m\u001b[0m\u001b[0m\n",
      "\u001b[1;32m<ipython-input-5-cbd79e499075>\u001b[0m in \u001b[0;36mget_ppms\u001b[1;34m(model)\u001b[0m\n\u001b[0;32m     33\u001b[0m             \u001b[1;31m# determine position of window about each filter activation\u001b[0m\u001b[1;33m\u001b[0m\u001b[1;33m\u001b[0m\u001b[1;33m\u001b[0m\u001b[0m\n\u001b[0;32m     34\u001b[0m             \u001b[0mstart_window\u001b[0m \u001b[1;33m=\u001b[0m \u001b[0mpos_index\u001b[0m\u001b[1;33m[\u001b[0m\u001b[0mi\u001b[0m\u001b[1;33m]\u001b[0m \u001b[1;33m-\u001b[0m \u001b[0mwindow_left\u001b[0m\u001b[1;33m\u001b[0m\u001b[1;33m\u001b[0m\u001b[0m\n\u001b[1;32m---> 35\u001b[1;33m             \u001b[0mend_window\u001b[0m \u001b[1;33m=\u001b[0m \u001b[0mpos_index\u001b[0m\u001b[1;33m[\u001b[0m\u001b[0mi\u001b[0m\u001b[1;33m]\u001b[0m \u001b[1;33m+\u001b[0m \u001b[0mwindow_right\u001b[0m\u001b[1;33m\u001b[0m\u001b[1;33m\u001b[0m\u001b[0m\n\u001b[0m\u001b[0;32m     36\u001b[0m \u001b[1;33m\u001b[0m\u001b[0m\n\u001b[0;32m     37\u001b[0m             \u001b[1;31m# check to make sure positions are valid\u001b[0m\u001b[1;33m\u001b[0m\u001b[1;33m\u001b[0m\u001b[1;33m\u001b[0m\u001b[0m\n",
      "\u001b[1;31mKeyboardInterrupt\u001b[0m: "
     ]
    }
   ],
   "source": [
    "for i in range(len(directories)):\n",
    "    print(i / len(directories) * 100)\n",
    "    for j in range(len(models[i])):\n",
    "        model = tf.keras.models.load_model(h5py.File(os.path.join(directories[i], models[i][j]), 'r'))\n",
    "        ppms = get_ppms(model)\n",
    "        for k in range(ppms.shape[0]):\n",
    "            \n",
    "            model_path = os.path.join('motifs', directories[i][directories[i].index(\"\\\\\")+1:], models[i][j][:models[i][j].index('.h5')])\n",
    "            if not os.path.exists(model_path):\n",
    "                os.makedirs(model_path)\n",
    "            \n",
    "            model_path = os.path.join(model_path, f'filter-{k+1}.txt')\n",
    "            open(model_path, 'w+').close()\n",
    "            \n",
    "            motif = ppms[i]\n",
    "            out = []\n",
    "\n",
    "            out.append(\"MEME version 4\\n\\n\")\n",
    "\n",
    "            out.append(\"ALPHABET= ACGT\\n\\n\")\n",
    "\n",
    "            out.append(\"strands: + -\\n\\n\")\n",
    "\n",
    "            out.append(\"Background letter frequencies\\n\")\n",
    "            out.append(\"A 0.25 C 0.25 G 0.25 T 0.25\\n\\n\")\n",
    "\n",
    "            out.append(f\"MOTIF filter-{k+1}\\n\")\n",
    "            out.append(f\"letter-probability matrix: alength= 4 w= {ppms[k].shape[0]}\\n\")\n",
    "\n",
    "            for l in motif:\n",
    "                out.append(\"%.4f %.4f %.4f %.4f\\n\" % (l[0], l[1], l[2], l[3]))\n",
    "\n",
    "            with open(model_path, 'w') as file:\n",
    "                file.writelines(out)"
   ]
  }
 ],
 "metadata": {
  "kernelspec": {
   "display_name": "Python 3",
   "language": "python",
   "name": "python3"
  },
  "language_info": {
   "codemirror_mode": {
    "name": "ipython",
    "version": 3
   },
   "file_extension": ".py",
   "mimetype": "text/x-python",
   "name": "python",
   "nbconvert_exporter": "python",
   "pygments_lexer": "ipython3",
   "version": "3.8.7"
  }
 },
 "nbformat": 4,
 "nbformat_minor": 4
}
