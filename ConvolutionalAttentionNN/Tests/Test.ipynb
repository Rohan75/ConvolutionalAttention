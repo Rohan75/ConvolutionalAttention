{
 "cells": [
  {
   "cell_type": "code",
   "execution_count": 4,
   "metadata": {},
   "outputs": [],
   "source": [
    "import requests as rq\n",
    "import io\n",
    "import numpy as np"
   ]
  },
  {
   "cell_type": "code",
   "execution_count": 5,
   "metadata": {},
   "outputs": [
    {
     "name": "stdout",
     "output_type": "stream",
     "text": [
      "[[[0 0 0 1]\n",
      "  [0 1 0 0]\n",
      "  [0 1 0 0]\n",
      "  ...\n",
      "  [1 0 0 0]\n",
      "  [1 0 0 0]\n",
      "  [1 0 0 0]]\n",
      "\n",
      " [[0 1 0 0]\n",
      "  [0 0 1 0]\n",
      "  [0 0 1 0]\n",
      "  ...\n",
      "  [0 1 0 0]\n",
      "  [1 0 0 0]\n",
      "  [1 0 0 0]]\n",
      "\n",
      " [[0 0 0 1]\n",
      "  [0 1 0 0]\n",
      "  [0 1 0 0]\n",
      "  ...\n",
      "  [0 0 1 0]\n",
      "  [0 0 1 0]\n",
      "  [0 0 1 0]]\n",
      "\n",
      " ...\n",
      "\n",
      " [[1 0 0 0]\n",
      "  [1 0 0 0]\n",
      "  [0 0 1 0]\n",
      "  ...\n",
      "  [0 1 0 0]\n",
      "  [0 0 1 0]\n",
      "  [0 0 0 1]]\n",
      "\n",
      " [[1 0 0 0]\n",
      "  [0 0 1 0]\n",
      "  [0 0 0 1]\n",
      "  ...\n",
      "  [0 0 1 0]\n",
      "  [0 0 1 0]\n",
      "  [0 0 0 1]]\n",
      "\n",
      " [[0 1 0 0]\n",
      "  [0 1 0 0]\n",
      "  [0 0 1 0]\n",
      "  ...\n",
      "  [0 0 0 1]\n",
      "  [1 0 0 0]\n",
      "  [0 0 1 0]]]\n"
     ]
    }
   ],
   "source": [
    "response = rq.get('https://github.com/Rohan75/ConvolutionalAttention/blob/master/ConvolutionalAttentionNN/train_x.npy?raw=true')\n",
    "response.raise_for_status()\n",
    "data = io.BytesIO(response.content)\n",
    "file = np.load(data, allow_pickle=True)\n",
    "print(file)"
   ]
  }
 ],
 "metadata": {
  "kernelspec": {
   "display_name": "Python 3",
   "language": "python",
   "name": "python3"
  },
  "language_info": {
   "codemirror_mode": {
    "name": "ipython",
    "version": 3
   },
   "file_extension": ".py",
   "mimetype": "text/x-python",
   "name": "python",
   "nbconvert_exporter": "python",
   "pygments_lexer": "ipython3",
   "version": "3.8.7"
  }
 },
 "nbformat": 4,
 "nbformat_minor": 4
}
