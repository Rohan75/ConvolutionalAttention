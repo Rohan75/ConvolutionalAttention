{
 "cells": [
  {
   "cell_type": "code",
   "execution_count": 2,
   "metadata": {},
   "outputs": [],
   "source": [
    "import tensorflow as tf\n",
    "from tensorflow.keras import layers\n",
    "from tensorflow.keras.models import Model\n",
    "\n",
    "import numpy as np\n",
    "import requests as rq\n",
    "import io"
   ]
  },
  {
   "cell_type": "code",
   "execution_count": 3,
   "metadata": {},
   "outputs": [],
   "source": [
    "response_X = rq.get('https://github.com/Rohan75/ConvolutionalAttention/blob/master/ConvolutionalAttentionNN/train_x.npy?raw=true')\n",
    "response_X.raise_for_status()\n",
    "\n",
    "response_y = rq.get('https://github.com/Rohan75/ConvolutionalAttention/blob/master/ConvolutionalAttentionNN/train_y.npy?raw=true')\n",
    "response_y.raise_for_status()\n",
    "\n",
    "X = np.load(io.BytesIO(response_X.content), allow_pickle=True)\n",
    "y = np.load(io.BytesIO(response_y.content), allow_pickle=True)"
   ]
  },
  {
   "cell_type": "code",
   "execution_count": 4,
   "metadata": {},
   "outputs": [],
   "source": [
    "input_layer = layers.Input(shape=(200, 4))\n",
    "\n",
    "conv1 = layers.Conv1D(filters=200, kernel_size=13, activation='relu', padding='same', name='conv1')(input_layer)\n",
    "pool1 = layers.MaxPool1D(pool_size=6)(conv1)\n",
    "\n",
    "positions = tf.range(pool1.shape[1])\n",
    "context = layers.Embedding(input_dim=pool1.shape[1], output_dim=pool1.shape[2])(positions)\n",
    "\n",
    "contextual_meaning = tf.add(pool1, context)\n",
    "inputs = layers.Dense(200)(contextual_meaning)\n",
    "\n",
    "query = layers.Dense(200)(inputs)\n",
    "value = layers.Dense(200)(inputs)\n",
    "\n",
    "attention, weights = layers.MultiHeadAttention(num_heads=8, key_dim=32)(query, value, return_attention_scores=True)\n",
    "attention_inputs = tf.add(inputs, attention)\n",
    "\n",
    "fcl1 = layers.Dense(256, activation='relu')(attention_inputs)\n",
    "fcl2 = layers.Dense(256, activation='relu')(fcl1)\n",
    "\n",
    "flat = layers.Flatten()(fcl2)\n",
    "\n",
    "output = layers.Dense(1, activation='sigmoid')(flat)"
   ]
  },
  {
   "cell_type": "code",
   "execution_count": 5,
   "metadata": {},
   "outputs": [
    {
     "name": "stdout",
     "output_type": "stream",
     "text": [
      "Epoch 1/10\n",
      "282/282 [==============================] - 18s 58ms/step - loss: 0.6700 - accuracy: 0.5428 - val_loss: 0.1735 - val_accuracy: 0.9460\n",
      "Epoch 2/10\n",
      "282/282 [==============================] - 17s 60ms/step - loss: 0.1245 - accuracy: 0.9678 - val_loss: 0.1036 - val_accuracy: 0.9750\n",
      "Epoch 3/10\n",
      "282/282 [==============================] - 17s 60ms/step - loss: 0.1069 - accuracy: 0.9725 - val_loss: 0.1119 - val_accuracy: 0.9730\n",
      "Epoch 4/10\n",
      "282/282 [==============================] - 17s 60ms/step - loss: 0.1088 - accuracy: 0.9724 - val_loss: 0.1161 - val_accuracy: 0.9700\n",
      "Epoch 5/10\n",
      "282/282 [==============================] - 17s 60ms/step - loss: 0.0960 - accuracy: 0.9762 - val_loss: 0.0991 - val_accuracy: 0.9750\n",
      "Epoch 6/10\n",
      "282/282 [==============================] - 17s 60ms/step - loss: 0.0967 - accuracy: 0.9749 - val_loss: 0.1038 - val_accuracy: 0.9740\n",
      "Epoch 7/10\n",
      "282/282 [==============================] - 17s 61ms/step - loss: 0.1091 - accuracy: 0.9713 - val_loss: 0.1019 - val_accuracy: 0.9750\n",
      "Epoch 8/10\n",
      "282/282 [==============================] - 17s 60ms/step - loss: 0.0924 - accuracy: 0.9771 - val_loss: 0.1041 - val_accuracy: 0.9750\n",
      "Epoch 9/10\n",
      "282/282 [==============================] - 17s 60ms/step - loss: 0.0969 - accuracy: 0.9752 - val_loss: 0.1322 - val_accuracy: 0.9750\n",
      "Epoch 10/10\n",
      "282/282 [==============================] - 17s 60ms/step - loss: 0.0934 - accuracy: 0.9755 - val_loss: 0.1195 - val_accuracy: 0.9740\n"
     ]
    },
    {
     "data": {
      "text/plain": [
       "<tensorflow.python.keras.callbacks.History at 0x226477108e0>"
      ]
     },
     "execution_count": 5,
     "metadata": {},
     "output_type": "execute_result"
    }
   ],
   "source": [
    "model = Model(inputs=input_layer, outputs=output)\n",
    "model.compile(optimizer='adam', loss='binary_crossentropy', metrics=['accuracy'])\n",
    "model.fit(X, y, epochs=10, validation_split=0.1)"
   ]
  }
 ],
 "metadata": {
  "kernelspec": {
   "display_name": "Python 3",
   "language": "python",
   "name": "python3"
  },
  "language_info": {
   "codemirror_mode": {
    "name": "ipython",
    "version": 3
   },
   "file_extension": ".py",
   "mimetype": "text/x-python",
   "name": "python",
   "nbconvert_exporter": "python",
   "pygments_lexer": "ipython3",
   "version": "3.8.7"
  }
 },
 "nbformat": 4,
 "nbformat_minor": 4
}
