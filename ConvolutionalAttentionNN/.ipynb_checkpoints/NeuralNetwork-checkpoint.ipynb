{
 "cells": [
  {
   "cell_type": "code",
   "execution_count": 2,
   "metadata": {},
   "outputs": [],
   "source": [
    "import tensorflow as tf\n",
    "from tensorflow.keras import layers\n",
    "from tensorflow.keras.models import Model\n",
    "\n",
    "import numpy as np"
   ]
  },
  {
   "cell_type": "code",
   "execution_count": 3,
   "metadata": {},
   "outputs": [],
   "source": [
    "X = np.load('train_x.npy', allow_pickle=True)\n",
    "y = np.load('train_y.npy', allow_pickle=True)"
   ]
  },
  {
   "cell_type": "code",
   "execution_count": 12,
   "metadata": {},
   "outputs": [],
   "source": [
    "input_layer = layers.Input(shape=(200, 4))\n",
    "\n",
    "conv1 = layers.Conv1D(filters=200, kernel_size=13, activation='relu', padding='same', name='conv1')(input_layer)\n",
    "pool1 = layers.MaxPool1D(pool_size=6)(conv1)\n",
    "\n",
    "positions = tf.range(pool1.shape[1])\n",
    "context = layers.Embedding(input_dim=pool1.shape[1], output_dim=pool1.shape[2])(positions)\n",
    "\n",
    "contextual_meaning = tf.add(pool1, context)\n",
    "inputs = layers.Dense(200)(contextual_meaning)\n",
    "\n",
    "query = layers.Dense(200)(inputs)\n",
    "value = layers.Dense(200)(inputs)\n",
    "\n",
    "attention, weights = layers.MultiHeadAttention(num_heads=8, key_dim=32)(query, value, return_attention_scores=True)\n",
    "attention_inputs = tf.add(inputs, attention)\n",
    "\n",
    "fcl1 = layers.Dense(256, activation='relu')(attention_inputs)\n",
    "fcl2 = layers.Dense(256, activation='relu')(fcl1)\n",
    "\n",
    "flat = layers.Flatten()(fcl2)\n",
    "\n",
    "output = layers.Dense(1, activation='sigmoid')(flat)"
   ]
  },
  {
   "cell_type": "code",
   "execution_count": 13,
   "metadata": {},
   "outputs": [
    {
     "name": "stdout",
     "output_type": "stream",
     "text": [
      "Epoch 1/10\n",
      "282/282 [==============================] - 14s 47ms/step - loss: 0.6785 - accuracy: 0.5422 - val_loss: 0.1447 - val_accuracy: 0.9530\n",
      "Epoch 2/10\n",
      "282/282 [==============================] - 13s 48ms/step - loss: 0.1299 - accuracy: 0.9661 - val_loss: 0.1089 - val_accuracy: 0.9750\n",
      "Epoch 3/10\n",
      "282/282 [==============================] - 18s 64ms/step - loss: 0.1128 - accuracy: 0.9718 - val_loss: 0.1377 - val_accuracy: 0.9740\n",
      "Epoch 4/10\n",
      "282/282 [==============================] - 20s 70ms/step - loss: 0.1151 - accuracy: 0.9738 - val_loss: 0.1286 - val_accuracy: 0.9750\n",
      "Epoch 5/10\n",
      "282/282 [==============================] - 20s 70ms/step - loss: 0.1000 - accuracy: 0.9761 - val_loss: 0.1048 - val_accuracy: 0.9750\n",
      "Epoch 6/10\n",
      "282/282 [==============================] - 22s 76ms/step - loss: 0.1002 - accuracy: 0.9744 - val_loss: 0.1238 - val_accuracy: 0.9730\n",
      "Epoch 7/10\n",
      "282/282 [==============================] - 20s 71ms/step - loss: 0.1151 - accuracy: 0.9689 - val_loss: 0.1068 - val_accuracy: 0.9750\n",
      "Epoch 8/10\n",
      "282/282 [==============================] - 20s 70ms/step - loss: 0.1030 - accuracy: 0.9762 - val_loss: 0.1104 - val_accuracy: 0.9750\n",
      "Epoch 9/10\n",
      "282/282 [==============================] - 17s 61ms/step - loss: 0.0904 - accuracy: 0.9779 - val_loss: 0.1067 - val_accuracy: 0.9750\n",
      "Epoch 10/10\n",
      "282/282 [==============================] - 18s 65ms/step - loss: 0.0898 - accuracy: 0.9757 - val_loss: 0.1093 - val_accuracy: 0.9750\n"
     ]
    },
    {
     "data": {
      "text/plain": [
       "<tensorflow.python.keras.callbacks.History at 0x19511da75e0>"
      ]
     },
     "execution_count": 13,
     "metadata": {},
     "output_type": "execute_result"
    }
   ],
   "source": [
    "model = Model(inputs=input_layer, outputs=output)\n",
    "model.compile(optimizer='adam', loss='binary_crossentropy', metrics=['accuracy'])\n",
    "model.fit(X, y, epochs=10, validation_split=0.1)"
   ]
  }
 ],
 "metadata": {
  "kernelspec": {
   "display_name": "Python 3",
   "language": "python",
   "name": "python3"
  },
  "language_info": {
   "codemirror_mode": {
    "name": "ipython",
    "version": 3
   },
   "file_extension": ".py",
   "mimetype": "text/x-python",
   "name": "python",
   "nbconvert_exporter": "python",
   "pygments_lexer": "ipython3",
   "version": "3.8.7"
  }
 },
 "nbformat": 4,
 "nbformat_minor": 4
}
