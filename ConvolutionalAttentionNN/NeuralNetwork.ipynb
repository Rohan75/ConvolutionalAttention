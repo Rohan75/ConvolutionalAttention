{
  "nbformat": 4,
  "nbformat_minor": 0,
  "metadata": {
    "accelerator": "GPU",
    "colab": {
      "name": "NeuralNetwork.ipynb",
      "provenance": []
    },
    "kernelspec": {
      "display_name": "Python 3",
      "language": "python",
      "name": "python3"
    },
    "language_info": {
      "codemirror_mode": {
        "name": "ipython",
        "version": 3
      },
      "file_extension": ".py",
      "mimetype": "text/x-python",
      "name": "python",
      "nbconvert_exporter": "python",
      "pygments_lexer": "ipython3",
      "version": "3.8.7"
    }
  },
  "cells": [
    {
      "cell_type": "code",
      "metadata": {
        "id": "2GwUSIzFCDo0"
      },
      "source": [
        "import tensorflow as tf\n",
        "from tensorflow.keras import layers\n",
        "from tensorflow.keras.models import Model\n",
        "\n",
        "import numpy as np\n",
        "import requests as rq\n",
        "import io, h5py"
      ],
      "execution_count": 25,
      "outputs": []
    },
    {
      "cell_type": "code",
      "metadata": {
        "id": "z40FDKDrCDo3",
        "outputId": "a66b5623-0b4c-4be2-fd59-5702e876c250",
        "colab": {
          "base_uri": "https://localhost:8080/"
        }
      },
      "source": [
        "data = rq.get('https://www.dropbox.com/s/c3umbo5y13sqcfp/synthetic_dataset.h5?raw=true')\n",
        "data.raise_for_status()\n",
        "\n",
        "with h5py.File(io.BytesIO(data.content), 'r') as dataset:\n",
        "    x_train = np.array(dataset['X_train']).astype(np.float32).transpose([0, 2, 1])\n",
        "    y_train = np.array(dataset['Y_train']).astype(np.float32)\n",
        "    x_valid = np.array(dataset['X_valid']).astype(np.float32).transpose([0, 2, 1])\n",
        "    y_valid = np.array(dataset['Y_valid']).astype(np.int32)\n",
        "    x_test = np.array(dataset['X_test']).astype(np.float32).transpose([0, 2, 1])\n",
        "    y_test = np.array(dataset['Y_test']).astype(np.int32)\n",
        "\n",
        "print(x_train.shape, y_train.shape)"
      ],
      "execution_count": 26,
      "outputs": [
        {
          "output_type": "stream",
          "text": [
            "(21000, 200, 4) (21000, 12)\n"
          ],
          "name": "stdout"
        }
      ]
    },
    {
      "cell_type": "code",
      "metadata": {
        "id": "_hsJMhsgCDo5"
      },
      "source": [
        "input_layer = layers.Input(shape=(200, 4))\n",
        "\n",
        "conv1 = layers.Conv1D(filters=200, kernel_size=13, padding='same', name='conv1')(input_layer)\n",
        "pool1 = layers.MaxPool1D(pool_size=6)(conv1)\n",
        "\n",
        "positions = tf.range(pool1.shape[1])\n",
        "context = layers.Embedding(input_dim=pool1.shape[1], output_dim=pool1.shape[2])(positions)\n",
        "\n",
        "contextual_meaning = tf.add(pool1, context)\n",
        "\n",
        "query = layers.Dense(100, name='query')(contextual_meaning)\n",
        "value = layers.Dense(100)(contextual_meaning)\n",
        "\n",
        "attention, weights = layers.MultiHeadAttention(num_heads=8, key_dim=32)(query, value, return_attention_scores=True)\n",
        "\n",
        "fcl1 = layers.Dense(512, activation='relu')(attention)\n",
        "fcl2 = layers.Dense(512, activation='relu')(fcl1)\n",
        "\n",
        "flat = layers.Flatten()(fcl2)\n",
        "\n",
        "output = layers.Dense(12, activation='sigmoid')(flat)"
      ],
      "execution_count": 50,
      "outputs": []
    },
    {
      "cell_type": "code",
      "metadata": {
        "colab": {
          "base_uri": "https://localhost:8080/"
        },
        "id": "JAqmnFAnCDo6",
        "outputId": "a81ccb03-2b7c-4cd4-9f3e-08b63ce1910c"
      },
      "source": [
        "model = Model(inputs=input_layer, outputs=output)\n",
        "model.compile(optimizer='adam', loss='binary_crossentropy', metrics=['accuracy', tf.keras.metrics.AUC(curve='ROC', name='auroc')])\n",
        "model.fit(x_train, y_train, epochs=50, validation_data=(x_valid, y_valid))"
      ],
      "execution_count": 51,
      "outputs": [
        {
          "output_type": "stream",
          "text": [
            "Epoch 1/50\n",
            "657/657 [==============================] - 7s 8ms/step - loss: 0.4265 - accuracy: 0.0923 - auroc: 0.5024 - val_loss: 0.4092 - val_accuracy: 0.1473 - val_auroc: 0.5625\n",
            "Epoch 2/50\n",
            "657/657 [==============================] - 5s 7ms/step - loss: 0.3854 - accuracy: 0.1630 - auroc: 0.6245 - val_loss: 0.3488 - val_accuracy: 0.2123 - val_auroc: 0.7061\n",
            "Epoch 3/50\n",
            "657/657 [==============================] - 5s 7ms/step - loss: 0.3404 - accuracy: 0.2323 - auroc: 0.7146 - val_loss: 0.3372 - val_accuracy: 0.2250 - val_auroc: 0.7238\n",
            "Epoch 4/50\n",
            "657/657 [==============================] - 5s 7ms/step - loss: 0.3339 - accuracy: 0.2514 - auroc: 0.7359 - val_loss: 0.3234 - val_accuracy: 0.2923 - val_auroc: 0.7585\n",
            "Epoch 5/50\n",
            "657/657 [==============================] - 5s 7ms/step - loss: 0.3112 - accuracy: 0.3177 - auroc: 0.7907 - val_loss: 0.2843 - val_accuracy: 0.3607 - val_auroc: 0.8446\n",
            "Epoch 6/50\n",
            "657/657 [==============================] - 5s 7ms/step - loss: 0.2626 - accuracy: 0.4006 - auroc: 0.8731 - val_loss: 0.2271 - val_accuracy: 0.4440 - val_auroc: 0.9131\n",
            "Epoch 7/50\n",
            "657/657 [==============================] - 5s 7ms/step - loss: 0.2102 - accuracy: 0.4834 - auroc: 0.9283 - val_loss: 0.1993 - val_accuracy: 0.4853 - val_auroc: 0.9357\n",
            "Epoch 8/50\n",
            "657/657 [==============================] - 5s 7ms/step - loss: 0.1803 - accuracy: 0.5002 - auroc: 0.9505 - val_loss: 0.1797 - val_accuracy: 0.5143 - val_auroc: 0.9497\n",
            "Epoch 9/50\n",
            "657/657 [==============================] - 5s 7ms/step - loss: 0.1497 - accuracy: 0.5537 - auroc: 0.9668 - val_loss: 0.1641 - val_accuracy: 0.5413 - val_auroc: 0.9594\n",
            "Epoch 10/50\n",
            "657/657 [==============================] - 5s 7ms/step - loss: 0.1286 - accuracy: 0.5850 - auroc: 0.9758 - val_loss: 0.1585 - val_accuracy: 0.5587 - val_auroc: 0.9604\n",
            "Epoch 11/50\n",
            "657/657 [==============================] - 5s 7ms/step - loss: 0.1193 - accuracy: 0.5905 - auroc: 0.9799 - val_loss: 0.1614 - val_accuracy: 0.5353 - val_auroc: 0.9599\n",
            "Epoch 12/50\n",
            "657/657 [==============================] - 5s 7ms/step - loss: 0.1124 - accuracy: 0.5877 - auroc: 0.9820 - val_loss: 0.1554 - val_accuracy: 0.5563 - val_auroc: 0.9629\n",
            "Epoch 13/50\n",
            "657/657 [==============================] - 5s 7ms/step - loss: 0.1073 - accuracy: 0.6056 - auroc: 0.9841 - val_loss: 0.1615 - val_accuracy: 0.5550 - val_auroc: 0.9604\n",
            "Epoch 14/50\n",
            "657/657 [==============================] - 5s 7ms/step - loss: 0.0979 - accuracy: 0.6077 - auroc: 0.9862 - val_loss: 0.1711 - val_accuracy: 0.5687 - val_auroc: 0.9598\n",
            "Epoch 15/50\n",
            "657/657 [==============================] - 5s 7ms/step - loss: 0.0930 - accuracy: 0.6137 - auroc: 0.9878 - val_loss: 0.1769 - val_accuracy: 0.5457 - val_auroc: 0.9583\n",
            "Epoch 16/50\n",
            "657/657 [==============================] - 5s 7ms/step - loss: 0.0835 - accuracy: 0.6126 - auroc: 0.9898 - val_loss: 0.1988 - val_accuracy: 0.5480 - val_auroc: 0.9525\n",
            "Epoch 17/50\n",
            "657/657 [==============================] - 5s 7ms/step - loss: 0.0791 - accuracy: 0.6260 - auroc: 0.9910 - val_loss: 0.1949 - val_accuracy: 0.5603 - val_auroc: 0.9527\n",
            "Epoch 18/50\n",
            "657/657 [==============================] - 5s 7ms/step - loss: 0.0718 - accuracy: 0.6239 - auroc: 0.9925 - val_loss: 0.2048 - val_accuracy: 0.5440 - val_auroc: 0.9492\n",
            "Epoch 19/50\n",
            "657/657 [==============================] - 5s 7ms/step - loss: 0.0667 - accuracy: 0.6320 - auroc: 0.9938 - val_loss: 0.2106 - val_accuracy: 0.5470 - val_auroc: 0.9494\n",
            "Epoch 20/50\n",
            "657/657 [==============================] - 5s 7ms/step - loss: 0.0615 - accuracy: 0.6339 - auroc: 0.9946 - val_loss: 0.2334 - val_accuracy: 0.5620 - val_auroc: 0.9422\n",
            "Epoch 21/50\n",
            "657/657 [==============================] - 5s 7ms/step - loss: 0.0576 - accuracy: 0.6377 - auroc: 0.9950 - val_loss: 0.2444 - val_accuracy: 0.5513 - val_auroc: 0.9358\n",
            "Epoch 22/50\n",
            "657/657 [==============================] - 5s 7ms/step - loss: 0.0523 - accuracy: 0.6483 - auroc: 0.9959 - val_loss: 0.2599 - val_accuracy: 0.5563 - val_auroc: 0.9379\n",
            "Epoch 23/50\n",
            "657/657 [==============================] - 5s 7ms/step - loss: 0.0508 - accuracy: 0.6424 - auroc: 0.9961 - val_loss: 0.2702 - val_accuracy: 0.5473 - val_auroc: 0.9352\n",
            "Epoch 24/50\n",
            "657/657 [==============================] - 5s 7ms/step - loss: 0.0457 - accuracy: 0.6532 - auroc: 0.9968 - val_loss: 0.2780 - val_accuracy: 0.5603 - val_auroc: 0.9342\n",
            "Epoch 25/50\n",
            "657/657 [==============================] - 5s 7ms/step - loss: 0.0467 - accuracy: 0.6468 - auroc: 0.9965 - val_loss: 0.3040 - val_accuracy: 0.5717 - val_auroc: 0.9262\n",
            "Epoch 26/50\n",
            "657/657 [==============================] - 5s 7ms/step - loss: 0.0462 - accuracy: 0.6576 - auroc: 0.9964 - val_loss: 0.3077 - val_accuracy: 0.5510 - val_auroc: 0.9292\n",
            "Epoch 27/50\n",
            "657/657 [==============================] - 5s 7ms/step - loss: 0.0417 - accuracy: 0.6619 - auroc: 0.9972 - val_loss: 0.2915 - val_accuracy: 0.5460 - val_auroc: 0.9340\n",
            "Epoch 28/50\n",
            "657/657 [==============================] - 5s 7ms/step - loss: 0.0387 - accuracy: 0.6589 - auroc: 0.9975 - val_loss: 0.3283 - val_accuracy: 0.5417 - val_auroc: 0.9284\n",
            "Epoch 29/50\n",
            "657/657 [==============================] - 5s 7ms/step - loss: 0.0388 - accuracy: 0.6694 - auroc: 0.9974 - val_loss: 0.3184 - val_accuracy: 0.5363 - val_auroc: 0.9317\n",
            "Epoch 30/50\n",
            "657/657 [==============================] - 5s 7ms/step - loss: 0.0373 - accuracy: 0.6687 - auroc: 0.9973 - val_loss: 0.3255 - val_accuracy: 0.5540 - val_auroc: 0.9235\n",
            "Epoch 31/50\n",
            "657/657 [==============================] - 5s 7ms/step - loss: 0.0348 - accuracy: 0.6723 - auroc: 0.9977 - val_loss: 0.3320 - val_accuracy: 0.5660 - val_auroc: 0.9246\n",
            "Epoch 32/50\n",
            "657/657 [==============================] - 5s 7ms/step - loss: 0.0388 - accuracy: 0.6654 - auroc: 0.9972 - val_loss: 0.3417 - val_accuracy: 0.5740 - val_auroc: 0.9235\n",
            "Epoch 33/50\n",
            "657/657 [==============================] - 5s 7ms/step - loss: 0.0343 - accuracy: 0.6657 - auroc: 0.9976 - val_loss: 0.3533 - val_accuracy: 0.5473 - val_auroc: 0.9277\n",
            "Epoch 34/50\n",
            "657/657 [==============================] - 5s 7ms/step - loss: 0.0322 - accuracy: 0.6729 - auroc: 0.9980 - val_loss: 0.3562 - val_accuracy: 0.5417 - val_auroc: 0.9196\n",
            "Epoch 35/50\n",
            "657/657 [==============================] - 5s 7ms/step - loss: 0.0341 - accuracy: 0.6780 - auroc: 0.9975 - val_loss: 0.3745 - val_accuracy: 0.5500 - val_auroc: 0.9145\n",
            "Epoch 36/50\n",
            "657/657 [==============================] - 5s 7ms/step - loss: 0.0372 - accuracy: 0.6767 - auroc: 0.9970 - val_loss: 0.3703 - val_accuracy: 0.5400 - val_auroc: 0.9194\n",
            "Epoch 37/50\n",
            "657/657 [==============================] - 5s 7ms/step - loss: 0.0329 - accuracy: 0.6715 - auroc: 0.9977 - val_loss: 0.3818 - val_accuracy: 0.5673 - val_auroc: 0.9110\n",
            "Epoch 38/50\n",
            "657/657 [==============================] - 5s 7ms/step - loss: 0.0318 - accuracy: 0.6759 - auroc: 0.9981 - val_loss: 0.3793 - val_accuracy: 0.5340 - val_auroc: 0.9185\n",
            "Epoch 39/50\n",
            "657/657 [==============================] - 5s 7ms/step - loss: 0.0314 - accuracy: 0.6757 - auroc: 0.9980 - val_loss: 0.3851 - val_accuracy: 0.5550 - val_auroc: 0.9178\n",
            "Epoch 40/50\n",
            "657/657 [==============================] - 5s 7ms/step - loss: 0.0319 - accuracy: 0.6878 - auroc: 0.9977 - val_loss: 0.3928 - val_accuracy: 0.5580 - val_auroc: 0.9117\n",
            "Epoch 41/50\n",
            "657/657 [==============================] - 5s 7ms/step - loss: 0.0344 - accuracy: 0.6821 - auroc: 0.9976 - val_loss: 0.3776 - val_accuracy: 0.5570 - val_auroc: 0.9153\n",
            "Epoch 42/50\n",
            "657/657 [==============================] - 5s 7ms/step - loss: 0.0293 - accuracy: 0.6817 - auroc: 0.9982 - val_loss: 0.4063 - val_accuracy: 0.5573 - val_auroc: 0.9148\n",
            "Epoch 43/50\n",
            "657/657 [==============================] - 5s 7ms/step - loss: 0.0312 - accuracy: 0.6841 - auroc: 0.9977 - val_loss: 0.4024 - val_accuracy: 0.5593 - val_auroc: 0.9146\n",
            "Epoch 44/50\n",
            "657/657 [==============================] - 5s 7ms/step - loss: 0.0300 - accuracy: 0.6878 - auroc: 0.9979 - val_loss: 0.4218 - val_accuracy: 0.5540 - val_auroc: 0.9129\n",
            "Epoch 45/50\n",
            "657/657 [==============================] - 5s 7ms/step - loss: 0.0323 - accuracy: 0.6939 - auroc: 0.9973 - val_loss: 0.4067 - val_accuracy: 0.5633 - val_auroc: 0.9162\n",
            "Epoch 46/50\n",
            "657/657 [==============================] - 5s 7ms/step - loss: 0.0299 - accuracy: 0.6855 - auroc: 0.9979 - val_loss: 0.4234 - val_accuracy: 0.5560 - val_auroc: 0.9110\n",
            "Epoch 47/50\n",
            "657/657 [==============================] - 5s 7ms/step - loss: 0.0305 - accuracy: 0.6911 - auroc: 0.9978 - val_loss: 0.4144 - val_accuracy: 0.5363 - val_auroc: 0.9077\n",
            "Epoch 48/50\n",
            "657/657 [==============================] - 5s 7ms/step - loss: 0.0262 - accuracy: 0.6907 - auroc: 0.9982 - val_loss: 0.4129 - val_accuracy: 0.5610 - val_auroc: 0.9059\n",
            "Epoch 49/50\n",
            "657/657 [==============================] - 5s 7ms/step - loss: 0.0305 - accuracy: 0.6892 - auroc: 0.9978 - val_loss: 0.4294 - val_accuracy: 0.5643 - val_auroc: 0.9055\n",
            "Epoch 50/50\n",
            "657/657 [==============================] - 5s 7ms/step - loss: 0.0297 - accuracy: 0.6925 - auroc: 0.9978 - val_loss: 0.4329 - val_accuracy: 0.5633 - val_auroc: 0.9092\n"
          ],
          "name": "stdout"
        },
        {
          "output_type": "execute_result",
          "data": {
            "text/plain": [
              "<tensorflow.python.keras.callbacks.History at 0x7fc0163a8588>"
            ]
          },
          "metadata": {
            "tags": []
          },
          "execution_count": 51
        }
      ]
    }
  ]
}