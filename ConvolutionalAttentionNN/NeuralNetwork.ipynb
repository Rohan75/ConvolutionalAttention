{
  "nbformat": 4,
  "nbformat_minor": 0,
  "metadata": {
    "accelerator": "GPU",
    "colab": {
      "name": "NeuralNetwork.ipynb",
      "provenance": []
    },
    "kernelspec": {
      "display_name": "Python 3",
      "language": "python",
      "name": "python3"
    },
    "language_info": {
      "codemirror_mode": {
        "name": "ipython",
        "version": 3
      },
      "file_extension": ".py",
      "mimetype": "text/x-python",
      "name": "python",
      "nbconvert_exporter": "python",
      "pygments_lexer": "ipython3",
      "version": "3.8.7"
    }
  },
  "cells": [
    {
      "cell_type": "code",
      "metadata": {
        "id": "2GwUSIzFCDo0"
      },
      "source": [
        "import tensorflow as tf\n",
        "from tensorflow.keras import layers\n",
        "from tensorflow.keras.models import Model\n",
        "\n",
        "import numpy as np\n",
        "import requests as rq\n",
        "import io, h5py"
      ],
      "execution_count": 1,
      "outputs": []
    },
    {
      "cell_type": "code",
      "metadata": {
        "id": "z40FDKDrCDo3",
        "colab": {
          "base_uri": "https://localhost:8080/"
        },
        "outputId": "28c8502c-d242-422c-ce37-68918dda55f2"
      },
      "source": [
        "data = rq.get('https://www.dropbox.com/s/c3umbo5y13sqcfp/synthetic_dataset.h5?raw=true')\n",
        "data.raise_for_status()\n",
        "\n",
        "with h5py.File(io.BytesIO(data.content), 'r') as dataset:\n",
        "    x_train = np.array(dataset['X_train']).astype(np.float32).transpose([0, 2, 1])\n",
        "    y_train = np.array(dataset['Y_train']).astype(np.float32)\n",
        "    x_valid = np.array(dataset['X_valid']).astype(np.float32).transpose([0, 2, 1])\n",
        "    y_valid = np.array(dataset['Y_valid']).astype(np.int32)\n",
        "    x_test = np.array(dataset['X_test']).astype(np.float32).transpose([0, 2, 1])\n",
        "    y_test = np.array(dataset['Y_test']).astype(np.int32)\n",
        "\n",
        "print(x_train.shape, y_train.shape)"
      ],
      "execution_count": 2,
      "outputs": [
        {
          "output_type": "stream",
          "text": [
            "(21000, 200, 4) (21000, 12)\n"
          ],
          "name": "stdout"
        }
      ]
    },
    {
      "cell_type": "code",
      "metadata": {
        "id": "ccCeov6oObuI"
      },
      "source": [
        "def generate_model():\r\n",
        "  input_layer = layers.Input(shape=(200, 4))\r\n",
        "\r\n",
        "  conv1 = layers.Conv1D(filters=64, kernel_size=13, padding='same', use_bias='false')(input_layer)\r\n",
        "  BN = layers.BatchNormalization()(conv1)\r\n",
        "  act = layers.Activation('relu')(BN)\r\n",
        "  pool1 = layers.MaxPool1D(pool_size=6)(act)\r\n",
        "  drop1 = layers.Dropout(0.05)(pool1)\r\n",
        "\r\n",
        "  positions = tf.range(drop1.shape[1])\r\n",
        "  context = layers.Embedding(input_dim=drop1.shape[1], output_dim=drop1.shape[2])(positions)\r\n",
        "\r\n",
        "  contextual_meaning = tf.add(drop1, context)\r\n",
        "\r\n",
        "  query = layers.Dense(100, name='query')(contextual_meaning)\r\n",
        "  value = layers.Dense(100)(contextual_meaning)\r\n",
        "\r\n",
        "  attention, weights = layers.MultiHeadAttention(num_heads=8, key_dim=32, dropout=0.55)(query, value, return_attention_scores=True)\r\n",
        "\r\n",
        "  flat = layers.Flatten()(attention)\r\n",
        "  fcl = layers.Dense(512, activation='relu')(flat)\r\n",
        "  drop2 = layers.Dropout(0.5)(fcl)\r\n",
        "\r\n",
        "  output = layers.Dense(12, activation='sigmoid')(drop2)\r\n",
        "\r\n",
        "  model = Model(inputs=input_layer, outputs=output)\r\n",
        "  model.compile(optimizer=tf.keras.optimizers.Adam(0.001), loss='binary_crossentropy', metrics=[tf.keras.metrics.AUC(curve='ROC', name='auroc'), tf.keras.metrics.AUC(curve='PR', name='aupr')])\r\n",
        "  return model"
      ],
      "execution_count": 25,
      "outputs": []
    },
    {
      "cell_type": "code",
      "metadata": {
        "colab": {
          "base_uri": "https://localhost:8080/"
        },
        "id": "JAqmnFAnCDo6",
        "outputId": "8e5c3305-5ecd-4d18-a784-84233f2aea85"
      },
      "source": [
        "model = generate_model()\n",
        "model.fit(x_train, y_train, epochs=60, validation_data=(x_valid, y_valid))"
      ],
      "execution_count": 26,
      "outputs": [
        {
          "output_type": "stream",
          "text": [
            "Epoch 1/60\n",
            "657/657 [==============================] - 7s 8ms/step - loss: 0.4167 - auroc: 0.5769 - aupr: 0.2293 - val_loss: 0.3006 - val_auroc: 0.8078 - val_aupr: 0.5572\n",
            "Epoch 2/60\n",
            "657/657 [==============================] - 5s 7ms/step - loss: 0.3249 - auroc: 0.7807 - aupr: 0.5174 - val_loss: 0.2663 - val_auroc: 0.8645 - val_aupr: 0.6504\n",
            "Epoch 3/60\n",
            "657/657 [==============================] - 5s 8ms/step - loss: 0.2916 - auroc: 0.8358 - aupr: 0.6057 - val_loss: 0.2455 - val_auroc: 0.8904 - val_aupr: 0.6996\n",
            "Epoch 4/60\n",
            "657/657 [==============================] - 5s 8ms/step - loss: 0.2747 - auroc: 0.8595 - aupr: 0.6482 - val_loss: 0.2260 - val_auroc: 0.9094 - val_aupr: 0.7477\n",
            "Epoch 5/60\n",
            "657/657 [==============================] - 5s 7ms/step - loss: 0.2591 - auroc: 0.8825 - aupr: 0.6924 - val_loss: 0.2094 - val_auroc: 0.9296 - val_aupr: 0.7871\n",
            "Epoch 6/60\n",
            "657/657 [==============================] - 5s 7ms/step - loss: 0.2377 - auroc: 0.9041 - aupr: 0.7371 - val_loss: 0.1841 - val_auroc: 0.9447 - val_aupr: 0.8284\n",
            "Epoch 7/60\n",
            "657/657 [==============================] - 5s 8ms/step - loss: 0.2225 - auroc: 0.9175 - aupr: 0.7631 - val_loss: 0.1768 - val_auroc: 0.9494 - val_aupr: 0.8368\n",
            "Epoch 8/60\n",
            "657/657 [==============================] - 5s 7ms/step - loss: 0.2148 - auroc: 0.9237 - aupr: 0.7761 - val_loss: 0.1753 - val_auroc: 0.9515 - val_aupr: 0.8456\n",
            "Epoch 9/60\n",
            "657/657 [==============================] - 5s 8ms/step - loss: 0.2068 - auroc: 0.9300 - aupr: 0.7935 - val_loss: 0.1651 - val_auroc: 0.9563 - val_aupr: 0.8578\n",
            "Epoch 10/60\n",
            "657/657 [==============================] - 5s 7ms/step - loss: 0.1992 - auroc: 0.9347 - aupr: 0.8048 - val_loss: 0.1650 - val_auroc: 0.9556 - val_aupr: 0.8561\n",
            "Epoch 11/60\n",
            "657/657 [==============================] - 5s 7ms/step - loss: 0.1953 - auroc: 0.9368 - aupr: 0.8087 - val_loss: 0.1657 - val_auroc: 0.9563 - val_aupr: 0.8552\n",
            "Epoch 12/60\n",
            "657/657 [==============================] - 5s 7ms/step - loss: 0.1904 - auroc: 0.9421 - aupr: 0.8179 - val_loss: 0.1630 - val_auroc: 0.9577 - val_aupr: 0.8586\n",
            "Epoch 13/60\n",
            "657/657 [==============================] - 5s 8ms/step - loss: 0.1841 - auroc: 0.9452 - aupr: 0.8279 - val_loss: 0.1559 - val_auroc: 0.9624 - val_aupr: 0.8677\n",
            "Epoch 14/60\n",
            "657/657 [==============================] - 5s 7ms/step - loss: 0.1821 - auroc: 0.9469 - aupr: 0.8313 - val_loss: 0.1566 - val_auroc: 0.9607 - val_aupr: 0.8668\n",
            "Epoch 15/60\n",
            "657/657 [==============================] - 5s 7ms/step - loss: 0.1745 - auroc: 0.9522 - aupr: 0.8407 - val_loss: 0.1538 - val_auroc: 0.9620 - val_aupr: 0.8734\n",
            "Epoch 16/60\n",
            "657/657 [==============================] - 5s 7ms/step - loss: 0.1741 - auroc: 0.9520 - aupr: 0.8436 - val_loss: 0.1553 - val_auroc: 0.9627 - val_aupr: 0.8712\n",
            "Epoch 17/60\n",
            "657/657 [==============================] - 5s 7ms/step - loss: 0.1711 - auroc: 0.9540 - aupr: 0.8468 - val_loss: 0.1453 - val_auroc: 0.9671 - val_aupr: 0.8835\n",
            "Epoch 18/60\n",
            "657/657 [==============================] - 5s 8ms/step - loss: 0.1684 - auroc: 0.9551 - aupr: 0.8519 - val_loss: 0.1498 - val_auroc: 0.9648 - val_aupr: 0.8769\n",
            "Epoch 19/60\n",
            "657/657 [==============================] - 5s 8ms/step - loss: 0.1674 - auroc: 0.9569 - aupr: 0.8543 - val_loss: 0.1495 - val_auroc: 0.9653 - val_aupr: 0.8764\n",
            "Epoch 20/60\n",
            "657/657 [==============================] - 5s 8ms/step - loss: 0.1647 - auroc: 0.9573 - aupr: 0.8554 - val_loss: 0.1468 - val_auroc: 0.9650 - val_aupr: 0.8813\n",
            "Epoch 21/60\n",
            "657/657 [==============================] - 6s 8ms/step - loss: 0.1614 - auroc: 0.9589 - aupr: 0.8610 - val_loss: 0.1465 - val_auroc: 0.9661 - val_aupr: 0.8811\n",
            "Epoch 22/60\n",
            "657/657 [==============================] - 5s 8ms/step - loss: 0.1606 - auroc: 0.9599 - aupr: 0.8627 - val_loss: 0.1424 - val_auroc: 0.9686 - val_aupr: 0.8853\n",
            "Epoch 23/60\n",
            "657/657 [==============================] - 5s 7ms/step - loss: 0.1579 - auroc: 0.9611 - aupr: 0.8666 - val_loss: 0.1403 - val_auroc: 0.9689 - val_aupr: 0.8885\n",
            "Epoch 24/60\n",
            "657/657 [==============================] - 5s 7ms/step - loss: 0.1571 - auroc: 0.9614 - aupr: 0.8680 - val_loss: 0.1473 - val_auroc: 0.9658 - val_aupr: 0.8810\n",
            "Epoch 25/60\n",
            "657/657 [==============================] - 5s 7ms/step - loss: 0.1582 - auroc: 0.9613 - aupr: 0.8674 - val_loss: 0.1413 - val_auroc: 0.9688 - val_aupr: 0.8881\n",
            "Epoch 26/60\n",
            "657/657 [==============================] - 5s 7ms/step - loss: 0.1520 - auroc: 0.9642 - aupr: 0.8746 - val_loss: 0.1400 - val_auroc: 0.9688 - val_aupr: 0.8891\n",
            "Epoch 27/60\n",
            "657/657 [==============================] - 5s 8ms/step - loss: 0.1513 - auroc: 0.9648 - aupr: 0.8767 - val_loss: 0.1430 - val_auroc: 0.9679 - val_aupr: 0.8860\n",
            "Epoch 28/60\n",
            "657/657 [==============================] - 5s 8ms/step - loss: 0.1506 - auroc: 0.9650 - aupr: 0.8739 - val_loss: 0.1375 - val_auroc: 0.9707 - val_aupr: 0.8924\n",
            "Epoch 29/60\n",
            "657/657 [==============================] - 5s 8ms/step - loss: 0.1485 - auroc: 0.9664 - aupr: 0.8771 - val_loss: 0.1413 - val_auroc: 0.9689 - val_aupr: 0.8879\n",
            "Epoch 30/60\n",
            "657/657 [==============================] - 5s 7ms/step - loss: 0.1485 - auroc: 0.9658 - aupr: 0.8795 - val_loss: 0.1367 - val_auroc: 0.9705 - val_aupr: 0.8924\n",
            "Epoch 31/60\n",
            "657/657 [==============================] - 5s 7ms/step - loss: 0.1461 - auroc: 0.9667 - aupr: 0.8822 - val_loss: 0.1388 - val_auroc: 0.9695 - val_aupr: 0.8911\n",
            "Epoch 32/60\n",
            "657/657 [==============================] - 6s 8ms/step - loss: 0.1446 - auroc: 0.9678 - aupr: 0.8854 - val_loss: 0.1342 - val_auroc: 0.9716 - val_aupr: 0.8959\n",
            "Epoch 33/60\n",
            "657/657 [==============================] - 5s 7ms/step - loss: 0.1466 - auroc: 0.9666 - aupr: 0.8809 - val_loss: 0.1348 - val_auroc: 0.9723 - val_aupr: 0.8958\n",
            "Epoch 34/60\n",
            "657/657 [==============================] - 5s 7ms/step - loss: 0.1442 - auroc: 0.9682 - aupr: 0.8842 - val_loss: 0.1394 - val_auroc: 0.9707 - val_aupr: 0.8902\n",
            "Epoch 35/60\n",
            "657/657 [==============================] - 5s 7ms/step - loss: 0.1423 - auroc: 0.9687 - aupr: 0.8876 - val_loss: 0.1365 - val_auroc: 0.9713 - val_aupr: 0.8946\n",
            "Epoch 36/60\n",
            "657/657 [==============================] - 5s 7ms/step - loss: 0.1408 - auroc: 0.9696 - aupr: 0.8872 - val_loss: 0.1382 - val_auroc: 0.9699 - val_aupr: 0.8925\n",
            "Epoch 37/60\n",
            "657/657 [==============================] - 5s 7ms/step - loss: 0.1381 - auroc: 0.9708 - aupr: 0.8926 - val_loss: 0.1352 - val_auroc: 0.9708 - val_aupr: 0.8964\n",
            "Epoch 38/60\n",
            "657/657 [==============================] - 5s 8ms/step - loss: 0.1400 - auroc: 0.9700 - aupr: 0.8889 - val_loss: 0.1345 - val_auroc: 0.9721 - val_aupr: 0.8972\n",
            "Epoch 39/60\n",
            "657/657 [==============================] - 5s 7ms/step - loss: 0.1356 - auroc: 0.9719 - aupr: 0.8946 - val_loss: 0.1393 - val_auroc: 0.9699 - val_aupr: 0.8897\n",
            "Epoch 40/60\n",
            "657/657 [==============================] - 5s 7ms/step - loss: 0.1390 - auroc: 0.9705 - aupr: 0.8928 - val_loss: 0.1381 - val_auroc: 0.9693 - val_aupr: 0.8927\n",
            "Epoch 41/60\n",
            "657/657 [==============================] - 5s 8ms/step - loss: 0.1368 - auroc: 0.9719 - aupr: 0.8922 - val_loss: 0.1321 - val_auroc: 0.9733 - val_aupr: 0.9003\n",
            "Epoch 42/60\n",
            "657/657 [==============================] - 5s 8ms/step - loss: 0.1349 - auroc: 0.9717 - aupr: 0.8964 - val_loss: 0.1348 - val_auroc: 0.9716 - val_aupr: 0.8942\n",
            "Epoch 43/60\n",
            "657/657 [==============================] - 5s 7ms/step - loss: 0.1336 - auroc: 0.9730 - aupr: 0.8966 - val_loss: 0.1314 - val_auroc: 0.9726 - val_aupr: 0.8982\n",
            "Epoch 44/60\n",
            "657/657 [==============================] - 5s 8ms/step - loss: 0.1333 - auroc: 0.9733 - aupr: 0.8977 - val_loss: 0.1367 - val_auroc: 0.9724 - val_aupr: 0.8923\n",
            "Epoch 45/60\n",
            "657/657 [==============================] - 5s 7ms/step - loss: 0.1360 - auroc: 0.9717 - aupr: 0.8956 - val_loss: 0.1304 - val_auroc: 0.9738 - val_aupr: 0.9010\n",
            "Epoch 46/60\n",
            "657/657 [==============================] - 5s 7ms/step - loss: 0.1351 - auroc: 0.9724 - aupr: 0.8962 - val_loss: 0.1320 - val_auroc: 0.9722 - val_aupr: 0.8998\n",
            "Epoch 47/60\n",
            "657/657 [==============================] - 5s 8ms/step - loss: 0.1326 - auroc: 0.9735 - aupr: 0.9001 - val_loss: 0.1365 - val_auroc: 0.9713 - val_aupr: 0.8917\n",
            "Epoch 48/60\n",
            "657/657 [==============================] - 5s 8ms/step - loss: 0.1293 - auroc: 0.9751 - aupr: 0.9041 - val_loss: 0.1343 - val_auroc: 0.9709 - val_aupr: 0.8973\n",
            "Epoch 49/60\n",
            "657/657 [==============================] - 5s 8ms/step - loss: 0.1311 - auroc: 0.9734 - aupr: 0.9028 - val_loss: 0.1319 - val_auroc: 0.9733 - val_aupr: 0.9014\n",
            "Epoch 50/60\n",
            "657/657 [==============================] - 5s 7ms/step - loss: 0.1313 - auroc: 0.9736 - aupr: 0.8998 - val_loss: 0.1326 - val_auroc: 0.9727 - val_aupr: 0.8975\n",
            "Epoch 51/60\n",
            "657/657 [==============================] - 5s 7ms/step - loss: 0.1286 - auroc: 0.9749 - aupr: 0.9049 - val_loss: 0.1325 - val_auroc: 0.9726 - val_aupr: 0.8968\n",
            "Epoch 52/60\n",
            "657/657 [==============================] - 5s 7ms/step - loss: 0.1257 - auroc: 0.9761 - aupr: 0.9084 - val_loss: 0.1338 - val_auroc: 0.9729 - val_aupr: 0.8970\n",
            "Epoch 53/60\n",
            "657/657 [==============================] - 5s 7ms/step - loss: 0.1311 - auroc: 0.9739 - aupr: 0.9026 - val_loss: 0.1328 - val_auroc: 0.9729 - val_aupr: 0.8978\n",
            "Epoch 54/60\n",
            "657/657 [==============================] - 5s 8ms/step - loss: 0.1291 - auroc: 0.9753 - aupr: 0.9046 - val_loss: 0.1317 - val_auroc: 0.9733 - val_aupr: 0.8983\n",
            "Epoch 55/60\n",
            "657/657 [==============================] - 5s 8ms/step - loss: 0.1252 - auroc: 0.9766 - aupr: 0.9080 - val_loss: 0.1328 - val_auroc: 0.9724 - val_aupr: 0.8987\n",
            "Epoch 56/60\n",
            "657/657 [==============================] - 5s 7ms/step - loss: 0.1249 - auroc: 0.9763 - aupr: 0.9098 - val_loss: 0.1310 - val_auroc: 0.9737 - val_aupr: 0.9008\n",
            "Epoch 57/60\n",
            "657/657 [==============================] - 5s 7ms/step - loss: 0.1256 - auroc: 0.9760 - aupr: 0.9082 - val_loss: 0.1342 - val_auroc: 0.9726 - val_aupr: 0.8970\n",
            "Epoch 58/60\n",
            "657/657 [==============================] - 5s 7ms/step - loss: 0.1249 - auroc: 0.9767 - aupr: 0.9102 - val_loss: 0.1331 - val_auroc: 0.9728 - val_aupr: 0.8977\n",
            "Epoch 59/60\n",
            "657/657 [==============================] - 5s 8ms/step - loss: 0.1238 - auroc: 0.9771 - aupr: 0.9103 - val_loss: 0.1321 - val_auroc: 0.9726 - val_aupr: 0.8994\n",
            "Epoch 60/60\n",
            "657/657 [==============================] - 5s 7ms/step - loss: 0.1224 - auroc: 0.9773 - aupr: 0.9125 - val_loss: 0.1337 - val_auroc: 0.9728 - val_aupr: 0.8949\n"
          ],
          "name": "stdout"
        },
        {
          "output_type": "execute_result",
          "data": {
            "text/plain": [
              "<tensorflow.python.keras.callbacks.History at 0x7f1fb23c8710>"
            ]
          },
          "metadata": {
            "tags": []
          },
          "execution_count": 26
        }
      ]
    }
  ]
}