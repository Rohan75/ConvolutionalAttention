{
  "nbformat": 4,
  "nbformat_minor": 0,
  "metadata": {
    "kernelspec": {
      "display_name": "Python 3",
      "language": "python",
      "name": "python3"
    },
    "language_info": {
      "codemirror_mode": {
        "name": "ipython",
        "version": 3
      },
      "file_extension": ".py",
      "mimetype": "text/x-python",
      "name": "python",
      "nbconvert_exporter": "python",
      "pygments_lexer": "ipython3",
      "version": "3.8.7"
    },
    "colab": {
      "name": "NeuralNetwork.ipynb",
      "provenance": []
    },
    "accelerator": "GPU"
  },
  "cells": [
    {
      "cell_type": "code",
      "metadata": {
        "id": "2GwUSIzFCDo0"
      },
      "source": [
        "import tensorflow as tf\n",
        "from tensorflow.keras import layers\n",
        "from tensorflow.keras.models import Model\n",
        "\n",
        "import numpy as np\n",
        "import requests as rq\n",
        "import io"
      ],
      "execution_count": 1,
      "outputs": []
    },
    {
      "cell_type": "code",
      "metadata": {
        "id": "z40FDKDrCDo3"
      },
      "source": [
        "response_X = rq.get('https://github.com/Rohan75/ConvolutionalAttention/blob/master/ConvolutionalAttentionNN/train_x.npy?raw=true')\n",
        "response_X.raise_for_status()\n",
        "\n",
        "response_y = rq.get('https://github.com/Rohan75/ConvolutionalAttention/blob/master/ConvolutionalAttentionNN/train_y.npy?raw=true')\n",
        "response_y.raise_for_status()\n",
        "\n",
        "X = np.load(io.BytesIO(response_X.content), allow_pickle=True)\n",
        "y = np.load(io.BytesIO(response_y.content), allow_pickle=True)"
      ],
      "execution_count": 2,
      "outputs": []
    },
    {
      "cell_type": "code",
      "metadata": {
        "id": "_hsJMhsgCDo5"
      },
      "source": [
        "input_layer = layers.Input(shape=(200, 4))\n",
        "\n",
        "conv1 = layers.Conv1D(filters=200, kernel_size=13, activation='relu', padding='same', name='conv1')(input_layer)\n",
        "pool1 = layers.MaxPool1D(pool_size=6)(conv1)\n",
        "\n",
        "positions = tf.range(pool1.shape[1])\n",
        "context = layers.Embedding(input_dim=pool1.shape[1], output_dim=pool1.shape[2])(positions)\n",
        "\n",
        "contextual_meaning = tf.add(pool1, context)\n",
        "inputs = layers.Dense(200)(contextual_meaning)\n",
        "\n",
        "query = layers.Dense(200)(inputs)\n",
        "value = layers.Dense(200)(inputs)\n",
        "\n",
        "attention, weights = layers.MultiHeadAttention(num_heads=8, key_dim=32)(query, value, return_attention_scores=True)\n",
        "attention_inputs = tf.add(inputs, attention)\n",
        "\n",
        "fcl1 = layers.Dense(256, activation='relu')(attention_inputs)\n",
        "fcl2 = layers.Dense(256, activation='relu')(fcl1)\n",
        "\n",
        "flat = layers.Flatten()(fcl2)\n",
        "\n",
        "output = layers.Dense(1, activation='sigmoid')(flat)"
      ],
      "execution_count": 3,
      "outputs": []
    },
    {
      "cell_type": "code",
      "metadata": {
        "id": "JAqmnFAnCDo6",
        "outputId": "a1917fef-84ce-47bd-c973-807331db08ce",
        "colab": {
          "base_uri": "https://localhost:8080/"
        }
      },
      "source": [
        "model = Model(inputs=input_layer, outputs=output)\n",
        "model.compile(optimizer='adam', loss='binary_crossentropy', metrics=['accuracy'])\n",
        "model.fit(X, y, epochs=25, validation_split=0.1)"
      ],
      "execution_count": 4,
      "outputs": [
        {
          "output_type": "stream",
          "text": [
            "Epoch 1/10\n",
            "282/282 [==============================] - 10s 8ms/step - loss: 0.6646 - accuracy: 0.5444 - val_loss: 0.1599 - val_accuracy: 0.9570\n",
            "Epoch 2/10\n",
            "282/282 [==============================] - 2s 6ms/step - loss: 0.1132 - accuracy: 0.9723 - val_loss: 0.1108 - val_accuracy: 0.9740\n",
            "Epoch 3/10\n",
            "282/282 [==============================] - 2s 6ms/step - loss: 0.1069 - accuracy: 0.9738 - val_loss: 0.1070 - val_accuracy: 0.9740\n",
            "Epoch 4/10\n",
            "282/282 [==============================] - 2s 6ms/step - loss: 0.1162 - accuracy: 0.9710 - val_loss: 0.1041 - val_accuracy: 0.9740\n",
            "Epoch 5/10\n",
            "282/282 [==============================] - 2s 6ms/step - loss: 0.1026 - accuracy: 0.9744 - val_loss: 0.1108 - val_accuracy: 0.9740\n",
            "Epoch 6/10\n",
            "282/282 [==============================] - 2s 6ms/step - loss: 0.1097 - accuracy: 0.9747 - val_loss: 0.1084 - val_accuracy: 0.9740\n",
            "Epoch 7/10\n",
            "282/282 [==============================] - 2s 6ms/step - loss: 0.1406 - accuracy: 0.9670 - val_loss: 0.1626 - val_accuracy: 0.9730\n",
            "Epoch 8/10\n",
            "282/282 [==============================] - 2s 6ms/step - loss: 0.1435 - accuracy: 0.9670 - val_loss: 0.1507 - val_accuracy: 0.9740\n",
            "Epoch 9/10\n",
            "282/282 [==============================] - 2s 6ms/step - loss: 0.0970 - accuracy: 0.9757 - val_loss: 0.1070 - val_accuracy: 0.9750\n",
            "Epoch 10/10\n",
            "282/282 [==============================] - 2s 6ms/step - loss: 0.0972 - accuracy: 0.9745 - val_loss: 0.1048 - val_accuracy: 0.9750\n"
          ],
          "name": "stdout"
        },
        {
          "output_type": "execute_result",
          "data": {
            "text/plain": [
              "<tensorflow.python.keras.callbacks.History at 0x7f82c0238e48>"
            ]
          },
          "metadata": {
            "tags": []
          },
          "execution_count": 4
        }
      ]
    }
  ]
}