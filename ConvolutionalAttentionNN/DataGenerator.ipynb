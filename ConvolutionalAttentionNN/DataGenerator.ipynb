{
 "cells": [
  {
   "cell_type": "code",
   "execution_count": null,
   "metadata": {
    "scrolled": true
   },
   "outputs": [
    {
     "name": "stdout",
     "output_type": "stream",
     "text": [
      "76 %    done"
     ]
    }
   ],
   "source": [
    "import numpy as np\n",
    "import sys\n",
    "from random import random, randint\n",
    "import time\n",
    "\n",
    "n = 200  # nucleotides per sequence\n",
    "m = 4999  # number of sequences - 1 per class\n",
    "\n",
    "then = time.time()\n",
    "\n",
    "nucleotides = {\n",
    "    0: [1, 0, 0, 0],  # A\n",
    "    1: [0, 1, 0, 0],  # T\n",
    "    2: [0, 0, 1, 0],  # C\n",
    "    3: [0, 0, 0, 1]  # G\n",
    "}\n",
    "\n",
    "transcription_factors = {\n",
    "    'arid3a': [\n",
    "        [27, 0, 1, 27, 27, 20],\n",
    "        [0, 0, 9, 0, 0, 0],\n",
    "        [0, 0, 0, 0, 0, 1],\n",
    "        [0, 27, 17, 0, 0, 6]\n",
    "    ]\n",
    "    \n",
    "}\n",
    "\n",
    "\n",
    "def get_cumulative_ppm(pfm):\n",
    "    ppm = np.array([[0. for j in range(len(pfm[i]))] for i in range(len(pfm))])\n",
    "    for i in range(len(ppm)):\n",
    "        for j in range(len(ppm[i])):\n",
    "            ppm[i][j] = pfm[i][j] / sum(pfm[k][j] for k in range(len(pfm))) + (0 if i == 0 else ppm[i - 1][j])\n",
    "    return ppm\n",
    "\n",
    "\n",
    "def generate_tf_sequence(ppm):\n",
    "    tf = []\n",
    "    for j in range(len(ppm[0])):\n",
    "        num = random()\n",
    "        for i in range(len(ppm)):\n",
    "            if num < ppm[i][j]:\n",
    "                tf.append(nucleotides[i])\n",
    "                break\n",
    "    return np.array(tf)\n",
    "\n",
    "\n",
    "def generate_dna_sequence():\n",
    "    return np.array([nucleotides[int(random() * 4)] for i in range(n)])\n",
    "\n",
    "\n",
    "arid3a = get_cumulative_ppm(transcription_factors['arid3a'])\n",
    "\n",
    "control_x = np.array([generate_dna_sequence()])\n",
    "control_y = np.array([0])\n",
    "\n",
    "bind_x = np.array([generate_dna_sequence()])\n",
    "bind_y = np.array([1])\n",
    "\n",
    "for i in range(m):\n",
    "    control_x = np.vstack((control_x, [generate_dna_sequence()]))\n",
    "    control_y = np.append(control_y, 0)\n",
    "\n",
    "    arid3a_site = generate_tf_sequence(arid3a)\n",
    "    bind_x = np.vstack((bind_x, [generate_dna_sequence()]))\n",
    "    loc = randint(0, n - arid3a_site.shape[0] - 1)\n",
    "    bind_x[i + 1][loc:loc + arid3a_site.shape[0]] = arid3a_site\n",
    "    bind_y = np.append(bind_y, 1)\n",
    "    sys.stdout.write('\\r' + str(i * 100 // (m+1)) + ' %    done')\n",
    "\n",
    "combined_x = np.concatenate([control_x, bind_x])\n",
    "combined_y = np.concatenate([control_y, bind_y])\n",
    "\n",
    "shuffle = np.random.permutation(len(combined_x))\n",
    "combined_x = combined_x[shuffle]\n",
    "combined_y = combined_y[shuffle]\n",
    "\n",
    "np.save('train_x.npy', combined_x, allow_pickle=True)\n",
    "np.save('train_y.npy', combined_y, allow_pickle=True)\n",
    "\n",
    "print('\\nCompleted in ' + str(time.time() - then) + 'seconds')\n",
    "print(combined_x.shape, combined_y.shape)"
   ]
  }
 ],
 "metadata": {
  "kernelspec": {
   "display_name": "Python 3",
   "language": "python",
   "name": "python3"
  },
  "language_info": {
   "codemirror_mode": {
    "name": "ipython",
    "version": 3
   },
   "file_extension": ".py",
   "mimetype": "text/x-python",
   "name": "python",
   "nbconvert_exporter": "python",
   "pygments_lexer": "ipython3",
   "version": "3.8.7"
  }
 },
 "nbformat": 4,
 "nbformat_minor": 4
}
