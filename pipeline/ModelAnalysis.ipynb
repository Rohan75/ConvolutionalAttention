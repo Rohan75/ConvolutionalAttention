{
 "cells": [
  {
   "cell_type": "code",
   "execution_count": 8,
   "id": "removed-proposition",
   "metadata": {},
   "outputs": [],
   "source": [
    "import tensorflow as tf\n",
    "import numpy as np\n",
    "\n",
    "import h5py, os, io\n",
    "import requests as rq\n",
    "\n",
    "from tfomics import moana, evaluate, impress\n",
    "import matplotlib.pyplot as plt"
   ]
  },
  {
   "cell_type": "code",
   "execution_count": 9,
   "id": "crazy-bermuda",
   "metadata": {},
   "outputs": [
    {
     "name": "stdout",
     "output_type": "stream",
     "text": [
      "[0 1 0 0 0 0 0 0 0 0 0 0]\n"
     ]
    }
   ],
   "source": [
    "data = rq.get('https://www.dropbox.com/s/c3umbo5y13sqcfp/synthetic_dataset.h5?raw=true')\n",
    "data.raise_for_status()\n",
    "\n",
    "with h5py.File(io.BytesIO(data.content), 'r') as dataset:\n",
    "    x_train = np.array(dataset['X_train']).astype(np.float32).transpose([0, 2, 1])\n",
    "    y_train = np.array(dataset['Y_train']).astype(np.float32)\n",
    "    x_valid = np.array(dataset['X_valid']).astype(np.float32).transpose([0, 2, 1])\n",
    "    y_valid = np.array(dataset['Y_valid']).astype(np.int32)\n",
    "    x_test = np.array(dataset['X_test']).astype(np.float32).transpose([0, 2, 1])\n",
    "    y_test = np.array(dataset['Y_test']).astype(np.int32)\n",
    "\n",
    "print(y_test[0])"
   ]
  },
  {
   "cell_type": "code",
   "execution_count": 10,
   "id": "accompanied-subdivision",
   "metadata": {
    "scrolled": false
   },
   "outputs": [
    {
     "name": "stdout",
     "output_type": "stream",
     "text": [
      "188/188 [==============================] - 52s 277ms/step - loss: 0.1502 - auroc: 0.9706 - aupr: 0.8911\n",
      "188/188 [==============================] - 7s 35ms/step - loss: 0.1315 - auroc: 0.9768 - aupr: 0.9102\n",
      "188/188 [==============================] - 4s 17ms/step - loss: 0.1137 - auroc: 0.9812 - aupr: 0.9242\n",
      "188/188 [==============================] - 2s 8ms/step - loss: 0.1263 - auroc: 0.9774 - aupr: 0.9078\n",
      "188/188 [==============================] - 1s 4ms/step - loss: 0.1187 - auroc: 0.9784 - aupr: 0.9152\n",
      "188/188 [==============================] - 1s 4ms/step - loss: 0.1323 - auroc: 0.9664 - aupr: 0.9042\n",
      "188/188 [==============================] - 1s 4ms/step - loss: 0.1708 - auroc: 0.9348 - aupr: 0.8553\n",
      "188/188 [==============================] - 1s 4ms/step - loss: 0.1262 - auroc: 0.9760 - aupr: 0.9071\n",
      "[['model-001' 'model-005' 'model-010' 'model-020' 'model-040' 'model-060'\n",
      "  'model-080' 'model-100']\n",
      " ['0.1501609981060028' '0.1315162628889084' '0.1137460321187973'\n",
      "  '0.1263085901737213' '0.11871451139450073' '0.13230063021183014'\n",
      "  '0.1708492487668991' '0.12623585760593414']\n",
      " ['0.9706136584281921' '0.9767605066299438' '0.9812313318252563'\n",
      "  '0.9774030447006226' '0.9783620834350586' '0.9664255380630493'\n",
      "  '0.9348206520080566' '0.9759871959686279']\n",
      " ['0.8910598158836365' '0.9102327227592468' '0.9242041110992432'\n",
      "  '0.9077870845794678' '0.9151815176010132' '0.9041653871536255'\n",
      "  '0.8553146123886108' '0.9071274995803833']\n",
      " ['0.5625' '0.84375' '0.90625' '0.90625' '0.9375' '0.875' '0.9375'\n",
      "  '0.96875']\n",
      " ['0.1875' '0.09375' '0.03125' '0.0625' '0.0' '0.0' '0.0' '0.03125']]\n"
     ]
    }
   ],
   "source": [
    "names = []\n",
    "aupr = []\n",
    "auroc = []\n",
    "losses = []\n",
    "match_fracs = []\n",
    "false_fracs = []\n",
    "\n",
    "category = 'pools'\n",
    "models = [i for i in os.walk(os.path.join('results', category))][0][1]\n",
    "for i in range(len(models)):\n",
    "    num_filters = moana.count_meme_entries(os.path.join('motifs', category, models[i] + '.txt'))\n",
    "    motif_dir = os.path.join('results', category, models[i], 'tomtom.tsv')\n",
    "\n",
    "    match_frac, match_any, filter_matches, filter_qvalues, motif_qvalues, hit_counts = evaluate.motif_comparison_synthetic_dataset(motif_dir, num_filters=num_filters)\n",
    "\n",
    "    names.append(models[i])\n",
    "    match_fracs.append(match_frac)\n",
    "    false_fracs.append(match_any - match_frac)\n",
    "\n",
    "    model = tf.keras.models.load_model(h5py.File(os.path.join('models', category, models[i] + '.h5'), 'r'))\n",
    "    results = model.evaluate(x_test, y_test)\n",
    "    losses.append(results[0])\n",
    "    auroc.append(results[1])\n",
    "    aupr.append(results[2])\n",
    "\n",
    "    \"\"\"\n",
    "    index = [type(i) for i in model.layers].index(tf.keras.layers.Activation)\n",
    "    ppms = moana.filter_activations(x_test, model, layer=index, window=20, threshold=0.5)\n",
    "    fig = plt.figure(figsize=(25, 4))\n",
    "    impress.plot_filters(ppms, fig, num_cols=8, names=filter_matches, fontsize=14)\n",
    "    \"\"\"\n",
    "\n",
    "statistics = np.array([names, losses, auroc, aupr, match_fracs, false_fracs])\n",
    "print(statistics)\n",
    "np.save(os.path.join('statistics', f'{category}.npy'), statistics, allow_pickle=True)"
   ]
  }
 ],
 "metadata": {
  "kernelspec": {
   "display_name": "Python 3",
   "language": "python",
   "name": "python3"
  },
  "language_info": {
   "codemirror_mode": {
    "name": "ipython",
    "version": 3
   },
   "file_extension": ".py",
   "mimetype": "text/x-python",
   "name": "python",
   "nbconvert_exporter": "python",
   "pygments_lexer": "ipython3",
   "version": "3.8.7"
  }
 },
 "nbformat": 4,
 "nbformat_minor": 5
}
