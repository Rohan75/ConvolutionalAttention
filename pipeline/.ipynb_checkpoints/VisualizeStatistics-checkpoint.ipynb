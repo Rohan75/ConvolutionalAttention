{
 "cells": [
  {
   "cell_type": "code",
   "execution_count": 6,
   "id": "latter-destiny",
   "metadata": {},
   "outputs": [],
   "source": [
    "import numpy as np\n",
    "import matplotlib.pyplot as plt\n",
    "import os"
   ]
  },
  {
   "cell_type": "code",
   "execution_count": 10,
   "id": "prime-seafood",
   "metadata": {
    "scrolled": false
   },
   "outputs": [],
   "source": [
    "def plot_statistics(stats, category):\n",
    "    cells = []\n",
    "    for i in (range(1, len(stats))):\n",
    "        cells.append([])\n",
    "        for j in range(len(stats[i])):\n",
    "            cells[i-1].append(np.float64('%.4f' % np.float64(stats[i][j])))\n",
    "\n",
    "    cells = np.array(cells)\n",
    "    cells = cells[[3, 4, 1, 2, 0]]\n",
    "    colors = cells * 0.5 + 0.5\n",
    "    for i in range(len(cells)):\n",
    "        if not (i == 1 or i == 4):\n",
    "            colors[i] = colors[i] * -1 + 1.5\n",
    "\n",
    "    cells = np.transpose(cells)\n",
    "    colors = np.transpose(colors)\n",
    "    colors = np.array([colors] * 3)\n",
    "    colors = np.transpose(colors, [1, 2, 0])\n",
    "\n",
    "    rows = stats[0]\n",
    "    cols = np.array(['true_hits', 'false_hits', 'AUROC', 'AUPR', 'loss'])\n",
    "\n",
    "    fig = plt.figure(figsize=(50, 25))\n",
    "    fig.patch.set_visible(False)\n",
    "\n",
    "    ax = fig.add_subplot()\n",
    "    ax.axis('off')\n",
    "\n",
    "    table = ax.table(cellText=cells, cellColours=colors, loc='center', rowLabels=rows, colLabels=cols)\n",
    "    table.set_fontsize(25)\n",
    "    table.scale(1, 4)\n",
    "\n",
    "    fig.suptitle(category)\n",
    "    plt.show()\n",
    "    return fig"
   ]
  },
  {
   "cell_type": "code",
   "execution_count": 9,
   "id": "attended-class",
   "metadata": {},
   "outputs": [
    {
     "name": "stdout",
     "output_type": "stream",
     "text": [
      "['pools.npy']\n"
     ]
    }
   ],
   "source": [
    "print([i for i in os.walk('statistics')][0][2])"
   ]
  }
 ],
 "metadata": {
  "kernelspec": {
   "display_name": "Python 3",
   "language": "python",
   "name": "python3"
  },
  "language_info": {
   "codemirror_mode": {
    "name": "ipython",
    "version": 3
   },
   "file_extension": ".py",
   "mimetype": "text/x-python",
   "name": "python",
   "nbconvert_exporter": "python",
   "pygments_lexer": "ipython3",
   "version": "3.8.7"
  }
 },
 "nbformat": 4,
 "nbformat_minor": 5
}
