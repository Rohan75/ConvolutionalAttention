{
 "cells": [
  {
   "cell_type": "code",
   "execution_count": 1,
   "metadata": {},
   "outputs": [],
   "source": [
    "import tensorflow as tf\n",
    "import numpy as np\n",
    "\n",
    "import h5py, os, io\n",
    "import requests as rq\n",
    "\n",
    "from tfomics import moana, evaluate, impress\n",
    "import matplotlib.pyplot as plt"
   ]
  },
  {
   "cell_type": "code",
   "execution_count": 2,
   "metadata": {},
   "outputs": [
    {
     "name": "stdout",
     "output_type": "stream",
     "text": [
      "[0 1 0 0 0 0 0 0 0 0 0 0]\n"
     ]
    }
   ],
   "source": [
    "data = rq.get('https://www.dropbox.com/s/c3umbo5y13sqcfp/synthetic_dataset.h5?raw=true')\n",
    "data.raise_for_status()\n",
    "\n",
    "with h5py.File(io.BytesIO(data.content), 'r') as dataset:\n",
    "    x_train = np.array(dataset['X_train']).astype(np.float32).transpose([0, 2, 1])\n",
    "    y_train = np.array(dataset['Y_train']).astype(np.float32)\n",
    "    x_valid = np.array(dataset['X_valid']).astype(np.float32).transpose([0, 2, 1])\n",
    "    y_valid = np.array(dataset['Y_valid']).astype(np.int32)\n",
    "    x_test = np.array(dataset['X_test']).astype(np.float32).transpose([0, 2, 1])\n",
    "    y_test = np.array(dataset['Y_test']).astype(np.int32)\n",
    "\n",
    "print(y_test[0])"
   ]
  },
  {
   "cell_type": "code",
   "execution_count": 5,
   "metadata": {
    "scrolled": false
   },
   "outputs": [
    {
     "name": "stdout",
     "output_type": "stream",
     "text": [
      "0.09375\n",
      "188/188 [==============================] - 5s 26ms/step - loss: 0.1249 - auroc: 0.9776 - aupr: 0.9103\n",
      "0.1875\n",
      "188/188 [==============================] - 6s 30ms/step - loss: 0.1689 - auroc: 0.9614 - aupr: 0.8668\n",
      "0.5\n",
      "188/188 [==============================] - 6s 30ms/step - loss: 0.3244 - auroc: 0.7714 - aupr: 0.4974\n",
      "0.15625\n",
      "188/188 [==============================] - 6s 30ms/step - loss: 0.1726 - auroc: 0.9615 - aupr: 0.8631\n",
      "0.25\n",
      "188/188 [==============================] - 5s 24ms/step - loss: 0.1703 - auroc: 0.9646 - aupr: 0.8722\n",
      "0.21875\n",
      "188/188 [==============================] - 5s 24ms/step - loss: 0.1757 - auroc: 0.9607 - aupr: 0.8598\n",
      "0.21875\n",
      "188/188 [==============================] - 5s 24ms/step - loss: 0.2222 - auroc: 0.9238 - aupr: 0.7686\n",
      "0.1875\n",
      "188/188 [==============================] - 5s 25ms/step - loss: 0.1712 - auroc: 0.9618 - aupr: 0.8646\n",
      "0.3125\n",
      "188/188 [==============================] - 5s 25ms/step - loss: 0.3616 - auroc: 0.8014 - aupr: 0.5441\n",
      "0.21875\n",
      "188/188 [==============================] - 6s 25ms/step - loss: 0.1715 - auroc: 0.9639 - aupr: 0.8672\n",
      "0.28125\n",
      "188/188 [==============================] - 5s 27ms/step - loss: 0.2354 - auroc: 0.9355 - aupr: 0.8043\n",
      "0.21875\n",
      "188/188 [==============================] - 5s 25ms/step - loss: 0.1801 - auroc: 0.9590 - aupr: 0.8525\n",
      "0.5625\n",
      "188/188 [==============================] - 5s 25ms/step - loss: 0.1751 - auroc: 0.9585 - aupr: 0.8564\n",
      "0.4140625\n",
      "188/188 [==============================] - 6s 31ms/step - loss: 0.1589 - auroc: 0.9633 - aupr: 0.8858\n",
      "0.41015625\n",
      "188/188 [==============================] - 8s 41ms/step - loss: 0.1853 - auroc: 0.9554 - aupr: 0.8765\n",
      "0.40625\n",
      "188/188 [==============================] - 5s 25ms/step - loss: 0.1660 - auroc: 0.9618 - aupr: 0.8683\n",
      "0.25\n",
      "188/188 [==============================] - 2s 7ms/step - loss: 0.1853 - auroc: 0.9465 - aupr: 0.8277\n",
      "0.1875\n",
      "188/188 [==============================] - 11s 54ms/step - loss: 0.1630 - auroc: 0.9709 - aupr: 0.8876\n",
      "0.3125\n",
      "188/188 [==============================] - 5s 25ms/step - loss: 0.1702 - auroc: 0.9599 - aupr: 0.8643\n",
      "0.21875\n",
      "188/188 [==============================] - 5s 24ms/step - loss: 0.1709 - auroc: 0.9609 - aupr: 0.8654\n",
      "0.0625\n",
      "188/188 [==============================] - 9s 44ms/step - loss: 0.1704 - auroc: 0.9601 - aupr: 0.8663\n",
      "0.21875\n",
      "188/188 [==============================] - 15s 79ms/step - loss: 0.1765 - auroc: 0.9578 - aupr: 0.8568\n",
      "0.3125\n",
      "188/188 [==============================] - 4s 16ms/step - loss: 0.1569 - auroc: 0.9641 - aupr: 0.8779\n",
      "0.1875\n",
      "188/188 [==============================] - 5s 26ms/step - loss: 0.1568 - auroc: 0.9678 - aupr: 0.8834\n",
      "0.375\n",
      "188/188 [==============================] - 28s 149ms/step - loss: 0.1796 - auroc: 0.9582 - aupr: 0.8608\n",
      "0.21875\n",
      "188/188 [==============================] - 3s 12ms/step - loss: 0.1985 - auroc: 0.9498 - aupr: 0.8260\n",
      "0.0625\n",
      "188/188 [==============================] - 2s 6ms/step - loss: 0.1336 - auroc: 0.9769 - aupr: 0.9027\n",
      "0.3125\n",
      "188/188 [==============================] - 5s 25ms/step - loss: 0.1816 - auroc: 0.9599 - aupr: 0.8551\n",
      "0.28125\n",
      "188/188 [==============================] - 5s 25ms/step - loss: 0.1679 - auroc: 0.9621 - aupr: 0.8669\n",
      "0.3125\n",
      "188/188 [==============================] - 6s 27ms/step - loss: 0.1615 - auroc: 0.9655 - aupr: 0.8764\n"
     ]
    }
   ],
   "source": [
    "names = []\n",
    "aupr = []\n",
    "auroc = []\n",
    "losses = []\n",
    "match_fracs = []\n",
    "false_fracs = []\n",
    "\n",
    "categories = [i for i in os.walk('results')][0][1]\n",
    "for i in range(len(categories)):\n",
    "    models = [i for i in os.walk(os.path.join('results', categories[i]))][0][1]\n",
    "    for j in range(len(models)):\n",
    "        num_filters = moana.count_meme_entries(os.path.join('motifs', categories[i], models[j] + '.meme'))\n",
    "        motif_dir = os.path.join('results', categories[i], models[j], 'tomtom.tsv')\n",
    "        \n",
    "        match_frac, match_any, filter_matches, filter_qvalues, motif_qvalues, hit_counts = evaluate.motif_comparison_synthetic_dataset(motif_dir, num_filters=num_filters)\n",
    "        \n",
    "        names.append(categories[i] + '-' + models[j])\n",
    "        match_fracs.append(match_frac)\n",
    "        false_fracs.append(match_any - match_frac)\n",
    "        \n",
    "        model = tf.keras.models.load_model(h5py.File(os.path.join('models', categories[i], models[j] + '.h5'), 'r'))\n",
    "        results = model.evaluate(x_test, y_test)\n",
    "        losses.append(results[0])\n",
    "        auroc.append(results[1])\n",
    "        aupr.append(results[2])\n",
    "        \n",
    "        \"\"\"\n",
    "        index = [type(i) for i in model.layers].index(tf.keras.layers.Activation)\n",
    "        ppms = moana.filter_activations(x_test, model, layer=index, window=20, threshold=0.5)\n",
    "        fig = plt.figure(figsize=(25, 4))\n",
    "        impress.plot_filters(ppms, fig, num_cols=8, names=filter_matches, fontsize=14)\n",
    "        \"\"\"\n",
    "\n",
    "statistics = np.array([names, losses, auroc, aupr, match_fracs, false_fracs])\n",
    "np.save('statistics.npy', statistics, allow_pickle=True)"
   ]
  }
 ],
 "metadata": {
  "kernelspec": {
   "display_name": "Python 3",
   "language": "python",
   "name": "python3"
  },
  "language_info": {
   "codemirror_mode": {
    "name": "ipython",
    "version": 3
   },
   "file_extension": ".py",
   "mimetype": "text/x-python",
   "name": "python",
   "nbconvert_exporter": "python",
   "pygments_lexer": "ipython3",
   "version": "3.8.7"
  }
 },
 "nbformat": 4,
 "nbformat_minor": 4
}
