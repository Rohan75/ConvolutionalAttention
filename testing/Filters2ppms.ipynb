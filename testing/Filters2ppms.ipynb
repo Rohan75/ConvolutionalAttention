{
 "cells": [
  {
   "cell_type": "code",
   "execution_count": 2,
   "metadata": {},
   "outputs": [
    {
     "name": "stdout",
     "output_type": "stream",
     "text": [
      "Collecting https://github.com/p-koo/tfomics/tarball/master\n",
      "  Using cached https://github.com/p-koo/tfomics/tarball/master\n",
      "Requirement already satisfied: logomaker in c:\\users\\ghotr\\appdata\\local\\programs\\python\\python38\\lib\\site-packages (from tfomics==0.1.0.dev0) (0.8)\n",
      "Requirement already satisfied: numpy in c:\\users\\ghotr\\appdata\\local\\programs\\python\\python38\\lib\\site-packages (from tfomics==0.1.0.dev0) (1.19.5)\n",
      "Requirement already satisfied: pandas in c:\\users\\ghotr\\appdata\\local\\programs\\python\\python38\\lib\\site-packages (from tfomics==0.1.0.dev0) (1.2.1)\n",
      "Requirement already satisfied: scikit-learn in c:\\users\\ghotr\\appdata\\local\\programs\\python\\python38\\lib\\site-packages (from tfomics==0.1.0.dev0) (0.24.1)\n",
      "Requirement already satisfied: scipy in c:\\users\\ghotr\\appdata\\local\\programs\\python\\python38\\lib\\site-packages (from tfomics==0.1.0.dev0) (1.6.0)\n",
      "Requirement already satisfied: matplotlib in c:\\users\\ghotr\\appdata\\local\\programs\\python\\python38\\lib\\site-packages (from logomaker->tfomics==0.1.0.dev0) (3.3.4)\n",
      "Requirement already satisfied: pillow>=6.2.0 in c:\\users\\ghotr\\appdata\\local\\programs\\python\\python38\\lib\\site-packages (from matplotlib->logomaker->tfomics==0.1.0.dev0) (8.1.0)\n",
      "Requirement already satisfied: python-dateutil>=2.1 in c:\\users\\ghotr\\appdata\\local\\programs\\python\\python38\\lib\\site-packages (from matplotlib->logomaker->tfomics==0.1.0.dev0) (2.8.1)\n",
      "Requirement already satisfied: kiwisolver>=1.0.1 in c:\\users\\ghotr\\appdata\\local\\programs\\python\\python38\\lib\\site-packages (from matplotlib->logomaker->tfomics==0.1.0.dev0) (1.3.1)\n",
      "Requirement already satisfied: cycler>=0.10 in c:\\users\\ghotr\\appdata\\local\\programs\\python\\python38\\lib\\site-packages (from matplotlib->logomaker->tfomics==0.1.0.dev0) (0.10.0)\n",
      "Requirement already satisfied: pyparsing!=2.0.4,!=2.1.2,!=2.1.6,>=2.0.3 in c:\\users\\ghotr\\appdata\\local\\programs\\python\\python38\\lib\\site-packages (from matplotlib->logomaker->tfomics==0.1.0.dev0) (2.4.7)\n",
      "Requirement already satisfied: six in c:\\users\\ghotr\\appdata\\local\\programs\\python\\python38\\lib\\site-packages (from cycler>=0.10->matplotlib->logomaker->tfomics==0.1.0.dev0) (1.15.0)\n",
      "Requirement already satisfied: pytz>=2017.3 in c:\\users\\ghotr\\appdata\\local\\programs\\python\\python38\\lib\\site-packages (from pandas->tfomics==0.1.0.dev0) (2021.1)\n",
      "Requirement already satisfied: threadpoolctl>=2.0.0 in c:\\users\\ghotr\\appdata\\local\\programs\\python\\python38\\lib\\site-packages (from scikit-learn->tfomics==0.1.0.dev0) (2.1.0)\n",
      "Requirement already satisfied: joblib>=0.11 in c:\\users\\ghotr\\appdata\\local\\programs\\python\\python38\\lib\\site-packages (from scikit-learn->tfomics==0.1.0.dev0) (1.0.0)\n"
     ]
    }
   ],
   "source": [
    "!pip install https://github.com/p-koo/tfomics/tarball/master"
   ]
  },
  {
   "cell_type": "code",
   "execution_count": 2,
   "metadata": {},
   "outputs": [
    {
     "name": "stderr",
     "output_type": "stream",
     "text": [
      "Matplotlib is building the font cache; this may take a moment.\n"
     ]
    }
   ],
   "source": [
    "import tensorflow as tf\n",
    "\n",
    "import numpy as np\n",
    "import requests as rq\n",
    "import io, h5py, os\n",
    "\n",
    "from tfomics import moana, evaluate"
   ]
  },
  {
   "cell_type": "code",
   "execution_count": 3,
   "metadata": {},
   "outputs": [],
   "source": [
    "data = rq.get('https://www.dropbox.com/s/c3umbo5y13sqcfp/synthetic_dataset.h5?raw=true')\n",
    "data.raise_for_status()\n",
    "\n",
    "with h5py.File(io.BytesIO(data.content), 'r') as dataset:\n",
    "    x_train = np.array(dataset['X_train']).astype(np.float32).transpose([0, 2, 1])\n",
    "    y_train = np.array(dataset['Y_train']).astype(np.float32)\n",
    "    x_valid = np.array(dataset['X_valid']).astype(np.float32).transpose([0, 2, 1])\n",
    "    y_valid = np.array(dataset['Y_valid']).astype(np.int32)\n",
    "    x_test = np.array(dataset['X_test']).astype(np.float32).transpose([0, 2, 1])\n",
    "    y_test = np.array(dataset['Y_test']).astype(np.int32)"
   ]
  },
  {
   "cell_type": "code",
   "execution_count": 4,
   "metadata": {},
   "outputs": [],
   "source": [
    "directories = [i[0] for i in os.walk('models')][1:]\n",
    "models = [i[2] for i in os.walk('models')][1:]"
   ]
  },
  {
   "cell_type": "code",
   "execution_count": 33,
   "metadata": {
    "scrolled": false
   },
   "outputs": [
    {
     "name": "stdout",
     "output_type": "stream",
     "text": [
      "0.0\n",
      "8.333333333333332\n",
      "16.666666666666664\n",
      "25.0\n",
      "33.33333333333333\n",
      "41.66666666666667\n",
      "50.0\n",
      "58.333333333333336\n",
      "66.66666666666666\n",
      "75.0\n",
      "83.33333333333334\n",
      "91.66666666666666\n"
     ]
    }
   ],
   "source": [
    "for i in range(len(directories)):\n",
    "    print(i / len(directories) * 100)\n",
    "    for j in range(len(models[i])):\n",
    "        \n",
    "        model = tf.keras.models.load_model(h5py.File(os.path.join(directories[i], models[i][j]), 'r'))\n",
    "        index = [type(i) for i in model.layers].index(tf.keras.layers.Activation)\n",
    "        \n",
    "        ppms = moana.filter_activations(x_test, model, layer=index, window=20, threshold=0.5)\n",
    "        ppms = moana.clip_filters(ppms, threshold=0.5, pad=3)\n",
    "        \n",
    "        if not os.path.exists(os.path.join('motifs', directories[i].split('\\\\')[1])):\n",
    "            os.makedirs(os.path.join('motifs', directories[i].split('\\\\')[1]))\n",
    "        \n",
    "        moana.meme_generate(ppms, output_file=os.path.join('motifs', directories[i].split('\\\\')[1], models[i][j].split('.h5')[0] + '.meme'), prefix='filter')"
   ]
  }
 ],
 "metadata": {
  "kernelspec": {
   "display_name": "Python 3",
   "language": "python",
   "name": "python3"
  },
  "language_info": {
   "codemirror_mode": {
    "name": "ipython",
    "version": 3
   },
   "file_extension": ".py",
   "mimetype": "text/x-python",
   "name": "python",
   "nbconvert_exporter": "python",
   "pygments_lexer": "ipython3",
   "version": "3.8.7"
  }
 },
 "nbformat": 4,
 "nbformat_minor": 4
}
